{
 "cells": [
  {
   "cell_type": "code",
   "execution_count": 2,
   "metadata": {},
   "outputs": [
    {
     "name": "stdout",
     "output_type": "stream",
     "text": [
      "ab\n",
      "['/Users/nicokreiling/anaconda3/envs/ds/lib/python3.7/site-packages/ipykernel_launcher.py', '-f', '/Users/nicokreiling/Library/Jupyter/runtime/kernel-f9e0dc06-d91b-4713-b49e-05c2d22d0ade.json']\n"
     ]
    }
   ],
   "source": [
    "kaggle_challenge = \"ab\"\n",
    "print(kaggle_challenge)\n",
    "import sys\n",
    "print(sys.argv)"
   ]
  },
  {
   "cell_type": "code",
   "execution_count": 3,
   "metadata": {},
   "outputs": [
    {
     "name": "stdout",
     "output_type": "stream",
     "text": [
      "input_file 12\n"
     ]
    }
   ],
   "source": [
    "import sys,os,argparse\n",
    "from IPython.display import HTML\n",
    "CONFIG_FILE = '.config_ipynb'\n",
    "if os.path.isfile(CONFIG_FILE):\n",
    "    with open(CONFIG_FILE) as f:\n",
    "        sys.argv = f.read().split()\n",
    "else:\n",
    "    sys.argv = ['test_args.py', 'input_file', '--int_param', '12']\n",
    "\n",
    "parser = argparse.ArgumentParser()\n",
    "parser.add_argument(\"input_file\",help=\"Input image, directory, or npy.\")\n",
    "parser.add_argument(\"--int_param\", type=int, default=4, help=\"an optional integer parameter.\")\n",
    "args = parser.parse_args()\n",
    "p = args.int_param\n",
    "print(args.input_file,p)"
   ]
  },
  {
   "cell_type": "markdown",
   "metadata": {},
   "source": [
    "# kaggle"
   ]
  },
  {
   "cell_type": "code",
   "execution_count": 22,
   "metadata": {},
   "outputs": [],
   "source": [
    "from kaggle import KaggleApi\n",
    "kapi = KaggleApi()"
   ]
  },
  {
   "cell_type": "code",
   "execution_count": null,
   "metadata": {},
   "outputs": [],
   "source": [
    "def get_kaggle_score():\n",
    "    scores = pd.DataFrame(kapi.competitions_submissions_list(\"titanic\"))\n",
    "    scores.query([\"fileName\", \"publicScore\"])\n",
    "    return scores"
   ]
  },
  {
   "cell_type": "code",
   "execution_count": 14,
   "metadata": {},
   "outputs": [
    {
     "name": "stdout",
     "output_type": "stream",
     "text": [
      "Archive:  titanic.zip\n",
      "  inflating: titanic-publicleaderboard.csv  \n"
     ]
    }
   ],
   "source": [
    "#upload():\n",
    "#kapi.dataset_list_files(kaggle_challenge)\n",
    "#kapi.competition_leaderboard_view(kaggle_challenge)\n",
    "#kapi.competition_leaderboard_download(kaggle_challenge, \".\")\n",
    "#!unzip \"titanic\""
   ]
  }
 ],
 "metadata": {
  "kernelspec": {
   "display_name": "Python [conda env:ds]",
   "language": "python",
   "name": "conda-env-ds-py"
  },
  "language_info": {
   "codemirror_mode": {
    "name": "ipython",
    "version": 3
   },
   "file_extension": ".py",
   "mimetype": "text/x-python",
   "name": "python",
   "nbconvert_exporter": "python",
   "pygments_lexer": "ipython3",
   "version": "3.8.2"
  }
 },
 "nbformat": 4,
 "nbformat_minor": 4
}
