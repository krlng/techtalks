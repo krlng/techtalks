{
 "cells": [
  {
   "cell_type": "markdown",
   "metadata": {},
   "source": [
    "# Playm"
   ]
  },
  {
   "cell_type": "code",
   "execution_count": 20,
   "metadata": {},
   "outputs": [],
   "source": [
    "from IPython.core.magic import (register_line_magic, register_cell_magic,\n",
    "                                register_line_cell_magic)\n",
    "\n",
    "@register_line_magic\n",
    "def lmagic(line):\n",
    "    \"my line magic\"\n",
    "    return line\n",
    "\n",
    "@register_cell_magic\n",
    "def cmagic(line, cell):\n",
    "    with capture_output(out, err, disp) as io:\n",
    "        self.shell.run_cell(cell)\n",
    "    if args.output:\n",
    "        self.shell.user_ns[args.output] = io\n",
    "    return line, cell\n",
    "\n",
    "@register_line_cell_magic\n",
    "def lcmagic(line, cell=None):\n",
    "    \"Magic that works both as %lcmagic and as %%lcmagic\"\n",
    "    if cell is None:\n",
    "        print(\"Called as line magic\")\n",
    "        return line\n",
    "    else:\n",
    "        print(\"Called as cell magic\")\n",
    "        return line, cell\n",
    "\n",
    "# In an interactive session, we need to delete these to avoid\n",
    "# name conflicts for automagic to work on line magics.\n",
    "del lmagic, lcmagic"
   ]
  },
  {
   "cell_type": "code",
   "execution_count": 21,
   "metadata": {},
   "outputs": [
    {
     "name": "stdout",
     "output_type": "stream",
     "text": [
      "Called as cell magic\n"
     ]
    },
    {
     "data": {
      "text/plain": [
       "('', '\"ab\"\\n')"
      ]
     },
     "execution_count": 21,
     "metadata": {},
     "output_type": "execute_result"
    }
   ],
   "source": [
    "%%lcmagic\n",
    "\"ab\""
   ]
  },
  {
   "cell_type": "code",
   "execution_count": 11,
   "metadata": {},
   "outputs": [],
   "source": [
    "\n",
    "from IPython.core import magic_arguments\n",
    "from IPython.core.magic import (Magics, magics_class, line_magic, cell_magic,\n",
    "                                line_cell_magic, on_off, needs_local_scope,\n",
    "                                no_var_expand)\n",
    "\n",
    "from IPython.utils.capture import capture_output\n",
    "\n",
    "def plot():\n",
    "    fig, ax = plt.subplots()  # Create a figure containing a single axes.\n",
    "    ax.plot([1, 2, 3, 4], [1, 4, 2, 3])  # Plot some data on the axes.\n",
    "    ax.get_figure()\n",
    "    pd.DataFrame({\"a\": [1,2], \"b\": [3,5]}).plot.bar()\n",
    "\n",
    "class ExecutionMagics(Magics):\n",
    "    def __init__(self, shell):\n",
    "        super(ExecutionMagics, self).__init__(shell)\n",
    "        # Default execution function used to actually run user code.\n",
    "        self.default_runner = None\n",
    "        \n",
    "    @magic_arguments.magic_arguments()\n",
    "    @magic_arguments.argument('output', type=str, default='', nargs='?',\n",
    "        help=\"\"\"The name of the variable in which to store output.\n",
    "        This is a utils.io.CapturedIO object with stdout/err attributes\n",
    "        for the text of the captured output.\n",
    "        CapturedOutput also has a show() method for displaying the output,\n",
    "        and __call__ as well, so you can use that to quickly display the\n",
    "        output.\n",
    "        If unspecified, captured output is discarded.\n",
    "        \"\"\"\n",
    "    )\n",
    "    @magic_arguments.argument('--no-stderr', action=\"store_true\",\n",
    "        help=\"\"\"Don't capture stderr.\"\"\"\n",
    "    )\n",
    "    @magic_arguments.argument('--no-stdout', action=\"store_true\",\n",
    "        help=\"\"\"Don't capture stdout.\"\"\"\n",
    "    )\n",
    "    @magic_arguments.argument('--no-display', action=\"store_true\",\n",
    "        help=\"\"\"Don't capture IPython's rich display.\"\"\"\n",
    "    )\n",
    "    @cell_magic\n",
    "    def capture2(self, line, cell):\n",
    "        \"\"\"run the cell, capturing stdout, stderr, and IPython's rich display() calls.\"\"\"\n",
    "        args = magic_arguments.parse_argstring(self.capture, line)\n",
    "        out = not args.no_stdout\n",
    "        err = not args.no_stderr\n",
    "        disp = not args.no_display\n",
    "        with capture_output(out, err, disp) as io:\n",
    "            self.shell.run_cell(cell)\n",
    "        if args.output:\n",
    "            self.shell.user_ns[args.output] = io"
   ]
  },
  {
   "cell_type": "code",
   "execution_count": 12,
   "metadata": {},
   "outputs": [],
   "source": []
  },
  {
   "cell_type": "code",
   "execution_count": 30,
   "metadata": {},
   "outputs": [
    {
     "data": {
      "image/png": "[encoded data removed]",
      "text/plain": [
       "<Figure size 432x288 with 1 Axes>"
      ]
     },
     "metadata": {
      "needs_background": "light"
     },
     "output_type": "display_data"
    },
    {
     "data": {
      "image/png": "[encoded data removed]",
      "text/plain": [
       "<Figure size 432x288 with 1 Axes>"
      ]
     },
     "metadata": {
      "needs_background": "light"
     },
     "output_type": "display_data"
    }
   ],
   "source": [
    "%matplotlib inline\n",
    "\n",
    "from IPython.utils.capture import capture_output\n",
    "with capture_output(True, True, True) as io:\n",
    "    fig, ax = plt.subplots()  # Create a figure containing a single axes.\n",
    "    ax.plot([1, 2, 3, 4], [1, 4, 2, 3])  # Plot some data on the axes.\n",
    "    ax.get_figure()\n",
    "    pd.DataFrame({\"a\": [1,2], \"b\": [3,5]}).plot.bar()"
   ]
  },
  {
   "cell_type": "code",
   "execution_count": 43,
   "metadata": {},
   "outputs": [
    {
     "data": {
      "text/plain": [
       "{}"
      ]
     },
     "execution_count": 43,
     "metadata": {},
     "output_type": "execute_result"
    }
   ],
   "source": [
    "io.outputs[1].metadata"
   ]
  },
  {
   "cell_type": "code",
   "execution_count": 49,
   "metadata": {},
   "outputs": [],
   "source": [
    "%%capture io2\n",
    "fig, ax = plt.subplots()  # Create a figure containing a single axes.\n",
    "ax.plot([1, 2, 3, 4], [1, 4, 2, 3])  # Plot some data on the axes.\n",
    "ax.get_figure()\n",
    "pd.DataFrame({\"a\": [1,2], \"b\": [3,5]}).plot.bar()"
   ]
  },
  {
   "cell_type": "code",
   "execution_count": 52,
   "metadata": {},
   "outputs": [
    {
     "data": {
      "text/plain": [
       "[{}, {}, {}, {'needs_background': 'light'}, {'needs_background': 'light'}]"
      ]
     },
     "execution_count": 52,
     "metadata": {},
     "output_type": "execute_result"
    }
   ],
   "source": [
    "[el.metadata for el in io2.outputs]"
   ]
  },
  {
   "cell_type": "code",
   "execution_count": 42,
   "metadata": {},
   "outputs": [
    {
     "data": {
      "application/javascript": [
       "\n",
       "        if (window._pyforest_update_imports_cell) { window._pyforest_update_imports_cell('import pandas as pd\\nimport matplotlib.pyplot as plt'); }\n",
       "    "
      ],
      "text/plain": [
       "<IPython.core.display.Javascript object>"
      ]
     },
     "execution_count": 42,
     "metadata": {},
     "output_type": "execute_result"
    }
   ],
   "source": [
    "rich_output"
   ]
  },
  {
   "cell_type": "code",
   "execution_count": 2,
   "metadata": {},
   "outputs": [],
   "source": [
    "#import pyforest\n",
    "import pandas as pd\n",
    "import numpy as np\n",
    "import yellowbrick as yb\n",
    "from sklearn.model_selection import cross_val_score"
   ]
  },
  {
   "cell_type": "code",
   "execution_count": 3,
   "metadata": {},
   "outputs": [],
   "source": [
    "from kaggle import KaggleApi\n",
    "kapi = KaggleApi()\n",
    "kapi.authenticate()"
   ]
  },
  {
   "cell_type": "code",
   "execution_count": 4,
   "metadata": {},
   "outputs": [],
   "source": [
    "%matplotlib notebook"
   ]
  },
  {
   "cell_type": "code",
   "execution_count": 5,
   "metadata": {},
   "outputs": [
    {
     "name": "stdout",
     "output_type": "stream",
     "text": [
      "Using matplotlib backend: nbAgg\n"
     ]
    }
   ],
   "source": [
    "%matplotlib"
   ]
  },
  {
   "cell_type": "code",
   "execution_count": 6,
   "metadata": {},
   "outputs": [
    {
     "data": {
      "application/javascript": [
       "\n",
       "        if (window._pyforest_update_imports_cell) { window._pyforest_update_imports_cell('import matplotlib.pyplot as plt'); }\n",
       "    "
      ],
      "text/plain": [
       "<IPython.core.display.Javascript object>"
      ]
     },
     "metadata": {},
     "output_type": "display_data"
    },
    {
     "data": {
      "text/html": [
       "        <script type=\"text/javascript\">\n",
       "        window.PlotlyConfig = {MathJaxConfig: 'local'};\n",
       "        if (window.MathJax) {MathJax.Hub.Config({SVG: {font: \"STIX-Web\"}});}\n",
       "        if (typeof require !== 'undefined') {\n",
       "        require.undef(\"plotly\");\n",
       "        requirejs.config({\n",
       "            paths: {\n",
       "                'plotly': ['https://cdn.plot.ly/plotly-latest.min']\n",
       "            }\n",
       "        });\n",
       "        require(['plotly'], function(Plotly) {\n",
       "            window._Plotly = Plotly;\n",
       "        });\n",
       "        }\n",
       "        </script>\n",
       "        "
      ]
     },
     "metadata": {},
     "output_type": "display_data"
    },
    {
     "name": "stderr",
     "output_type": "stream",
     "text": [
      "/Users/nicokreiling/anaconda3/envs/ds/lib/python3.7/site-packages/ipywidgets/widgets/widget.py:282: DeprecationWarning:\n",
      "\n",
      "Widget registration using a string name has been deprecated. Widget registration now uses a plain `@register` decorator.\n",
      "\n",
      "/Users/nicokreiling/anaconda3/envs/ds/lib/python3.7/site-packages/qgrid/grid.py:573: DeprecationWarning:\n",
      "\n",
      "metadata {'sync': True} was set from the constructor. With traitlets 4.1, metadata should be set using the .tag() method, e.g., Int().tag(key1='value1', key2='value2')\n",
      "\n"
     ]
    }
   ],
   "source": [
    "%run ~/dev/ds/helpers.ipynb"
   ]
  },
  {
   "cell_type": "markdown",
   "metadata": {
    "slideshow": {
     "slide_type": "slide"
    },
    "toc-hr-collapsed": true,
    "toc-nb-collapsed": true
   },
   "source": [
    "# Data Understanding"
   ]
  },
  {
   "cell_type": "markdown",
   "metadata": {
    "slideshow": {
     "slide_type": "fragment"
    }
   },
   "source": [
    "Mit diesem Vorwissen werden wir die gegebenen Daten analysen, um eine Aussage über die Machbarkeit der Aufgabe zu erlangen"
   ]
  },
  {
   "cell_type": "markdown",
   "metadata": {
    "slideshow": {
     "slide_type": "subslide"
    }
   },
   "source": [
    "## Data Loading"
   ]
  },
  {
   "cell_type": "code",
   "execution_count": 7,
   "metadata": {},
   "outputs": [
    {
     "data": {
      "text/plain": [
       "{'PassengerId': dtype('int64'),\n",
       " 'Survived': dtype('int64'),\n",
       " 'Pclass': dtype('int64'),\n",
       " 'Name': dtype('O'),\n",
       " 'Sex': dtype('O'),\n",
       " 'Age': dtype('float64'),\n",
       " 'SibSp': dtype('int64'),\n",
       " 'Parch': dtype('int64'),\n",
       " 'Ticket': dtype('O'),\n",
       " 'Fare': dtype('float64'),\n",
       " 'Cabin': dtype('O'),\n",
       " 'Embarked': dtype('O')}"
      ]
     },
     "execution_count": 7,
     "metadata": {},
     "output_type": "execute_result"
    }
   ],
   "source": [
    "df = pd.read_csv(\"./data/titanic/train.csv\")\n",
    "df.dtypes.to_dict()"
   ]
  },
  {
   "cell_type": "code",
   "execution_count": 8,
   "metadata": {
    "slideshow": {
     "slide_type": "fragment"
    }
   },
   "outputs": [],
   "source": [
    "schema = {'PassengerId': np.int64,\n",
    " 'Survived': np.int64,\n",
    " 'Pclass': np.int64,\n",
    " 'Name': str,\n",
    " 'Sex': 'category',\n",
    " 'Age': np.float64,\n",
    " 'SibSp': np.int64,\n",
    " 'Parch': np.int64,\n",
    " 'Ticket': str,\n",
    " 'Fare': np.float64,\n",
    " 'Cabin': str,\n",
    " 'Embarked': 'category'}\n",
    "target_col = \"Survived\"\n",
    "\n",
    "schema_test = schema\n",
    "del schema_test[target_col]"
   ]
  },
  {
   "cell_type": "code",
   "execution_count": 9,
   "metadata": {},
   "outputs": [],
   "source": [
    "from helpers import DataLoader\n",
    "train_l = DataLoader(\"data/titanic/train.csv\",\"Survived\", schema)"
   ]
  },
  {
   "cell_type": "code",
   "execution_count": 10,
   "metadata": {},
   "outputs": [],
   "source": [
    "X, y = train_l.get_Xy()"
   ]
  },
  {
   "cell_type": "code",
   "execution_count": 11,
   "metadata": {},
   "outputs": [
    {
     "data": {
      "text/plain": [
       "(891, 12)"
      ]
     },
     "execution_count": 11,
     "metadata": {},
     "output_type": "execute_result"
    }
   ],
   "source": [
    "train = train_l.load_data()\n",
    "train.shape"
   ]
  },
  {
   "cell_type": "code",
   "execution_count": 12,
   "metadata": {},
   "outputs": [
    {
     "data": {
      "text/plain": [
       "(418, 11)"
      ]
     },
     "execution_count": 12,
     "metadata": {},
     "output_type": "execute_result"
    }
   ],
   "source": [
    "test_l = DataLoader(\"data/titanic/test.csv\",\"Survived\", schema_test)\n",
    "test = test_l.load_data()\n",
    "test.shape"
   ]
  },
  {
   "cell_type": "code",
   "execution_count": 13,
   "metadata": {
    "_cell_guid": "3ab4c525-a5cb-4183-9468-c1dd005c4c78",
    "slideshow": {
     "slide_type": "fragment"
    }
   },
   "outputs": [
    {
     "name": "stdout",
     "output_type": "stream",
     "text": [
      "Train Dimensions: (891, 12)\n",
      "Test Dimensions: (418, 11)\n"
     ]
    },
    {
     "data": {
      "text/html": [
       "<div>\n",
       "<style scoped>\n",
       "    .dataframe tbody tr th:only-of-type {\n",
       "        vertical-align: middle;\n",
       "    }\n",
       "\n",
       "    .dataframe tbody tr th {\n",
       "        vertical-align: top;\n",
       "    }\n",
       "\n",
       "    .dataframe thead th {\n",
       "        text-align: right;\n",
       "    }\n",
       "</style>\n",
       "<table border=\"1\" class=\"dataframe\">\n",
       "  <thead>\n",
       "    <tr style=\"text-align: right;\">\n",
       "      <th></th>\n",
       "      <th>PassengerId</th>\n",
       "      <th>Survived</th>\n",
       "      <th>Pclass</th>\n",
       "      <th>Name</th>\n",
       "      <th>Sex</th>\n",
       "      <th>Age</th>\n",
       "      <th>SibSp</th>\n",
       "      <th>Parch</th>\n",
       "      <th>Ticket</th>\n",
       "      <th>Fare</th>\n",
       "      <th>Cabin</th>\n",
       "      <th>Embarked</th>\n",
       "    </tr>\n",
       "  </thead>\n",
       "  <tbody>\n",
       "    <tr>\n",
       "      <th>0</th>\n",
       "      <td>1</td>\n",
       "      <td>0</td>\n",
       "      <td>3</td>\n",
       "      <td>Braund, Mr. Owen Harris</td>\n",
       "      <td>male</td>\n",
       "      <td>22.0</td>\n",
       "      <td>1</td>\n",
       "      <td>0</td>\n",
       "      <td>A/5 21171</td>\n",
       "      <td>7.2500</td>\n",
       "      <td>NaN</td>\n",
       "      <td>S</td>\n",
       "    </tr>\n",
       "    <tr>\n",
       "      <th>1</th>\n",
       "      <td>2</td>\n",
       "      <td>1</td>\n",
       "      <td>1</td>\n",
       "      <td>Cumings, Mrs. John Bradley (Florence Briggs Th...</td>\n",
       "      <td>female</td>\n",
       "      <td>38.0</td>\n",
       "      <td>1</td>\n",
       "      <td>0</td>\n",
       "      <td>PC 17599</td>\n",
       "      <td>71.2833</td>\n",
       "      <td>C85</td>\n",
       "      <td>C</td>\n",
       "    </tr>\n",
       "    <tr>\n",
       "      <th>2</th>\n",
       "      <td>3</td>\n",
       "      <td>1</td>\n",
       "      <td>3</td>\n",
       "      <td>Heikkinen, Miss. Laina</td>\n",
       "      <td>female</td>\n",
       "      <td>26.0</td>\n",
       "      <td>0</td>\n",
       "      <td>0</td>\n",
       "      <td>STON/O2. 3101282</td>\n",
       "      <td>7.9250</td>\n",
       "      <td>NaN</td>\n",
       "      <td>S</td>\n",
       "    </tr>\n",
       "    <tr>\n",
       "      <th>3</th>\n",
       "      <td>4</td>\n",
       "      <td>1</td>\n",
       "      <td>1</td>\n",
       "      <td>Futrelle, Mrs. Jacques Heath (Lily May Peel)</td>\n",
       "      <td>female</td>\n",
       "      <td>35.0</td>\n",
       "      <td>1</td>\n",
       "      <td>0</td>\n",
       "      <td>113803</td>\n",
       "      <td>53.1000</td>\n",
       "      <td>C123</td>\n",
       "      <td>S</td>\n",
       "    </tr>\n",
       "    <tr>\n",
       "      <th>4</th>\n",
       "      <td>5</td>\n",
       "      <td>0</td>\n",
       "      <td>3</td>\n",
       "      <td>Allen, Mr. William Henry</td>\n",
       "      <td>male</td>\n",
       "      <td>35.0</td>\n",
       "      <td>0</td>\n",
       "      <td>0</td>\n",
       "      <td>373450</td>\n",
       "      <td>8.0500</td>\n",
       "      <td>NaN</td>\n",
       "      <td>S</td>\n",
       "    </tr>\n",
       "  </tbody>\n",
       "</table>\n",
       "</div>"
      ],
      "text/plain": [
       "   PassengerId  Survived  Pclass  \\\n",
       "0            1         0       3   \n",
       "1            2         1       1   \n",
       "2            3         1       3   \n",
       "3            4         1       1   \n",
       "4            5         0       3   \n",
       "\n",
       "                                                Name     Sex   Age  SibSp  \\\n",
       "0                            Braund, Mr. Owen Harris    male  22.0      1   \n",
       "1  Cumings, Mrs. John Bradley (Florence Briggs Th...  female  38.0      1   \n",
       "2                             Heikkinen, Miss. Laina  female  26.0      0   \n",
       "3       Futrelle, Mrs. Jacques Heath (Lily May Peel)  female  35.0      1   \n",
       "4                           Allen, Mr. William Henry    male  35.0      0   \n",
       "\n",
       "   Parch            Ticket     Fare Cabin Embarked  \n",
       "0      0         A/5 21171   7.2500   NaN        S  \n",
       "1      0          PC 17599  71.2833   C85        C  \n",
       "2      0  STON/O2. 3101282   7.9250   NaN        S  \n",
       "3      0            113803  53.1000  C123        S  \n",
       "4      0            373450   8.0500   NaN        S  "
      ]
     },
     "execution_count": 13,
     "metadata": {},
     "output_type": "execute_result"
    }
   ],
   "source": [
    "print(\"Train Dimensions:\", train.shape)\n",
    "print(\"Test Dimensions:\", test.shape)\n",
    "\n",
    "# preview the data\n",
    "train.head()"
   ]
  },
  {
   "cell_type": "markdown",
   "metadata": {
    "slideshow": {
     "slide_type": "subslide"
    },
    "toc-hr-collapsed": true
   },
   "source": [
    "## Missing data"
   ]
  },
  {
   "cell_type": "code",
   "execution_count": 14,
   "metadata": {
    "slideshow": {
     "slide_type": "fragment"
    }
   },
   "outputs": [
    {
     "data": {
      "text/plain": [
       "PassengerId       0\n",
       "Survived        418\n",
       "Pclass            0\n",
       "Name              0\n",
       "Sex               0\n",
       "Age             263\n",
       "SibSp             0\n",
       "Parch             0\n",
       "Ticket            0\n",
       "Fare              1\n",
       "Cabin          1014\n",
       "Embarked          2\n",
       "dtype: int64"
      ]
     },
     "execution_count": 14,
     "metadata": {},
     "output_type": "execute_result"
    }
   ],
   "source": [
    "pd.concat([train, test]).isnull().sum()"
   ]
  },
  {
   "cell_type": "markdown",
   "metadata": {},
   "source": [
    "## Kaggle Submission"
   ]
  },
  {
   "cell_type": "code",
   "execution_count": null,
   "metadata": {},
   "outputs": [],
   "source": []
  },
  {
   "cell_type": "markdown",
   "metadata": {},
   "source": [
    "# Pipeline"
   ]
  },
  {
   "cell_type": "code",
   "execution_count": 15,
   "metadata": {},
   "outputs": [
    {
     "name": "stderr",
     "output_type": "stream",
     "text": [
      "<>:10: DeprecationWarning:\n",
      "\n",
      "invalid escape sequence \\.\n",
      "\n",
      "<>:10: DeprecationWarning:\n",
      "\n",
      "invalid escape sequence \\.\n",
      "\n",
      "<>:10: DeprecationWarning:\n",
      "\n",
      "invalid escape sequence \\.\n",
      "\n",
      "<ipython-input-15-81be4d8c07c7>:10: DeprecationWarning:\n",
      "\n",
      "invalid escape sequence \\.\n",
      "\n"
     ]
    },
    {
     "data": {
      "application/javascript": [
       "\n",
       "        if (window._pyforest_update_imports_cell) { window._pyforest_update_imports_cell('import matplotlib.pyplot as plt\\nimport sklearn'); }\n",
       "    "
      ],
      "text/plain": [
       "<IPython.core.display.Javascript object>"
      ]
     },
     "metadata": {},
     "output_type": "display_data"
    }
   ],
   "source": [
    "#%%writefile model_preperation.py\n",
    "from sklearn.base import BaseEstimator, TransformerMixin\n",
    "from sklearn.preprocessing import OneHotEncoder, StandardScaler\n",
    "from sklearn.impute import SimpleImputer\n",
    "from sklearn.pipeline import Pipeline \n",
    "from sklearn.preprocessing import LabelEncoder, OneHotEncoder\n",
    "from sklearn.preprocessing import label_binarize\n",
    "\n",
    "def get_title(names):\n",
    "    titles = names.str.extract(' ([A-Za-z]+)\\.', expand=False)\n",
    "    titles = titles.replace(['Lady', 'Countess','Capt', 'Col','Don', 'Dr', 'Major', 'Rev', 'Sir', 'Jonkheer', 'Dona'],'Rare')\n",
    "    titles = titles.replace('Mlle','Miss')\n",
    "    titles = titles.replace('Ms','Miss')\n",
    "    titles = titles.replace('Mme','Mrs')\n",
    "    return titles\n",
    "\n",
    "class ModelPreperation(sklearn.base.TransformerMixin):\n",
    "    #Class Constructor \n",
    "    def __init__( self ):\n",
    "        self.title_encoder = LabelEncoder()\n",
    "        pass\n",
    "     \n",
    "    def fit( self, X, y=None):\n",
    "        self.default_age = X.Age.median()\n",
    "        self.default_price = X.Fare.mean()\n",
    "        self.default_harbor = X.Embarked.mode()[0]\n",
    "        self.title_encoder.fit(get_title(X.Name))\n",
    "        return self\n",
    "        \n",
    "    def transform( self, df):\n",
    "        df = df.copy()\n",
    "        df[\"Age\"].fillna(self.default_age, inplace=True)\n",
    "        df[\"Fare\"].fillna(self.default_price, inplace=True)\n",
    "        df[\"Embarked\"].fillna(self.default_harbor, inplace=True)\n",
    "        df['Sex'] = label_binarize(df.Sex, ['male', 'female'])\n",
    "        df[\"has_cabin\"] = ~df.Cabin.isna()\n",
    "        df[\"title\"] = self.title_encoder.transform(get_title(df.Name))\n",
    "        df.drop([\"Cabin\",\"Name\",\"Ticket\",\"PassengerId\"], axis=1, inplace=True)\n",
    "        df = pd.get_dummies(df, prefix=['Embarked'], columns=['Embarked'], drop_first=True)\n",
    "        return df\n",
    "\n",
    "def get_pipeline():\n",
    "    #gb_params = {'n_estimators': 200,'min_samples_split': 16,'min_samples_leaf': 16,'max_features': 5,'max_depth': 3,'learning_rate': 0.25}\n",
    "    gb_params = {'n_estimators': 32,'min_samples_leaf': 2,'max_depth': 3,'learning_rate': 0.25}\n",
    "    pipe = Pipeline(steps=[\n",
    "        (\"prepare\",ModelPreperation()), \n",
    "        (\"clr\",GradientBoostingClassifier(**gb_params))\n",
    "    ])\n",
    "    return pipe\n",
    "    \n",
    "def train_pipe(pipe):\n",
    "    return pipe.fit(*get_Xy())"
   ]
  },
  {
   "cell_type": "markdown",
   "metadata": {},
   "source": [
    "## Train"
   ]
  },
  {
   "cell_type": "code",
   "execution_count": 13,
   "metadata": {},
   "outputs": [],
   "source": [
    "from sklearn.model_selection import StratifiedKFold\n",
    "from yellowbrick.model_selection import ValidationCurve, LearningCurve\n",
    "from sklearn.model_selection import RandomizedSearchCV\n",
    "\n",
    "gb_hpt_params = dict()\n",
    "gb_hpt_params[\"n_estimators\"] = [8, 16, 32, 64, 100, 200]\n",
    "gb_hpt_params[\"min_samples_split\"] = [2,3,4,5,6,7,8,9,10,20,30,40,50]\n",
    "gb_hpt_params[\"min_samples_leaf\"] = [1, 2, 4, 8, 16, 32, 64, 100, 200]\n",
    "gb_hpt_params[\"max_depth\"] = [2, 3, 4, 8]\n",
    "gb_hpt_params[\"max_features\"] = list(range(3, len(X)))\n",
    "gb_hpt_params[\"learning_rate\"] = [1, 0.5, 0.25, 0.2, 0.15, 0.1, 0.05, 0.01]"
   ]
  },
  {
   "cell_type": "code",
   "execution_count": 14,
   "metadata": {},
   "outputs": [
    {
     "data": {
      "application/javascript": [
       "\n",
       "        if (window._pyforest_update_imports_cell) { window._pyforest_update_imports_cell('import matplotlib.pyplot as plt\\nimport sklearn\\nfrom sklearn.ensemble import GradientBoostingClassifier'); }\n",
       "    "
      ],
      "text/plain": [
       "<IPython.core.display.Javascript object>"
      ]
     },
     "metadata": {},
     "output_type": "display_data"
    }
   ],
   "source": [
    "pipe = get_pipeline()\n",
    "X, y = train_l.get_Xy()"
   ]
  },
  {
   "cell_type": "code",
   "execution_count": 15,
   "metadata": {},
   "outputs": [],
   "source": [
    "prepare = pipe.steps[0][1].fit(X, y)\n",
    "X_ = prepare.transform(X)"
   ]
  },
  {
   "cell_type": "code",
   "execution_count": 16,
   "metadata": {},
   "outputs": [
    {
     "data": {
      "application/javascript": [
       "\n",
       "        if (window._pyforest_update_imports_cell) { window._pyforest_update_imports_cell('import matplotlib.pyplot as plt\\nimport sklearn\\nfrom sklearn.ensemble import GradientBoostingClassifier'); }\n",
       "    "
      ],
      "text/plain": [
       "<IPython.core.display.Javascript object>"
      ]
     },
     "metadata": {},
     "output_type": "display_data"
    }
   ],
   "source": [
    "gb_params = {'n_estimators': 32,'min_samples_leaf': 2,'max_depth': 3,'learning_rate': 0.25}\n",
    "classifier = GradientBoostingClassifier(**gb_params)"
   ]
  },
  {
   "cell_type": "code",
   "execution_count": 17,
   "metadata": {},
   "outputs": [
    {
     "data": {
      "image/png": "[encoded data removed]",
      "text/plain": [
       "<Figure size 1440x360 with 1 Axes>"
      ]
     },
     "metadata": {
      "needs_background": "light"
     },
     "output_type": "display_data"
    },
    {
     "data": {
      "text/plain": [
       "<matplotlib.axes._subplots.AxesSubplot at 0x1c1d532490>"
      ]
     },
     "execution_count": 17,
     "metadata": {},
     "output_type": "execute_result"
    }
   ],
   "source": [
    "attr = \"n_estimators\"\n",
    "viz = yb.model_selection.ValidationCurve(\n",
    "    classifier, param_name=attr,\n",
    "    param_range=gb_hpt_params[attr], cv=10, scoring=\"accuracy\", n_jobs=-1\n",
    ")\n",
    "\n",
    "viz.fit(X_, y).show()"
   ]
  },
  {
   "cell_type": "code",
   "execution_count": 18,
   "metadata": {},
   "outputs": [],
   "source": [
    "def get_scores(y_test, predictions):\n",
    "    report = classification_report(y_test, predictions, target_names=[\"Survived\", \"Drown\"], output_dict=True)\n",
    "    res = report[\"weighted avg\"]\n",
    "    res[\"accuracy\"] = report[\"accuracy\"]\n",
    "    return res\n",
    "\n",
    "#get_scores(y_test, predictions)"
   ]
  },
  {
   "cell_type": "code",
   "execution_count": 19,
   "metadata": {},
   "outputs": [],
   "source": [
    "\n",
    "def learning_curve(model, X, y, scoring='accuracy'):\n",
    "    from yellowbrick.model_selection import LearningCurve\n",
    "\n",
    "    cv = StratifiedKFold(n_splits=12)\n",
    "    sizes = np.linspace(0.3, 1.0, 10)\n",
    "\n",
    "    visualizer = LearningCurve(model, cv=cv, scoring=scoring, train_sizes=sizes, n_jobs=-1)\n",
    "\n",
    "    visualizer.fit(X, y)        # Fit the data to the visualizer\n",
    "    figsize(12,5)\n",
    "    visualizer.show()           # Finalize and render the figure\n",
    "    "
   ]
  },
  {
   "cell_type": "code",
   "execution_count": 86,
   "metadata": {},
   "outputs": [],
   "source": [
    "%matplotlib inline\n",
    "def feature_importance(classifier, X):\n",
    "    if hasattr(classifier, \"feature_importances_\"):\n",
    "        feature_importances = pd.DataFrame(zip(X.columns, classifier.feature_importances_), columns=[\"feature\", \"importance\"])\\\n",
    "        .set_index(\"feature\").sort_values(\"importance\")\n",
    "    else:\n",
    "        print(\"No feature importance found\")\n",
    "        return None\n",
    "    fig = feature_importances.plot.barh().axes.get_figure()\n",
    "    print(fig.show())\n",
    "    return fig"
   ]
  },
  {
   "cell_type": "code",
   "execution_count": 87,
   "metadata": {},
   "outputs": [
    {
     "ename": "NameError",
     "evalue": "name 'backend_inline' is not defined",
     "output_type": "error",
     "traceback": [
      "\u001b[0;31m---------------------------------------------------------------------------\u001b[0m",
      "\u001b[0;31mNameError\u001b[0m                                 Traceback (most recent call last)",
      "\u001b[0;32m<ipython-input-87-658813279d69>\u001b[0m in \u001b[0;36m<module>\u001b[0;34m\u001b[0m\n\u001b[0;32m----> 1\u001b[0;31m \u001b[0mbackend_inline\u001b[0m\u001b[0;34m\u001b[0m\u001b[0;34m\u001b[0m\u001b[0m\n\u001b[0m",
      "\u001b[0;31mNameError\u001b[0m: name 'backend_inline' is not defined"
     ]
    }
   ],
   "source": [
    "backend_inline"
   ]
  },
  {
   "cell_type": "code",
   "execution_count": 21,
   "metadata": {},
   "outputs": [
    {
     "name": "stdout",
     "output_type": "stream",
     "text": [
      "Warning: Cannot change to a different GUI toolkit: widget. Using notebook instead.\n"
     ]
    }
   ],
   "source": [
    "%matplotlib widget"
   ]
  },
  {
   "cell_type": "code",
   "execution_count": 19,
   "metadata": {},
   "outputs": [],
   "source": [
    "import ipympl\n",
    "%matplotlib notebook"
   ]
  },
  {
   "cell_type": "code",
   "execution_count": 1,
   "metadata": {},
   "outputs": [
    {
     "data": {
      "application/vnd.jupyter.widget-view+json": {
       "model_id": "7e58033fc8ec4d3a883c52b1523d9acb",
       "version_major": 2,
       "version_minor": 0
      },
      "text/plain": [
       "Canvas(toolbar=Toolbar(toolitems=[('Home', 'Reset original view', 'home', 'home'), ('Back', 'Back to previous …"
      ]
     },
     "metadata": {},
     "output_type": "display_data"
    },
    {
     "data": {
      "text/plain": [
       "[<matplotlib.lines.Line2D at 0x1178675d0>]"
      ]
     },
     "execution_count": 1,
     "metadata": {},
     "output_type": "execute_result"
    }
   ],
   "source": [
    "%matplotlib ipympl\n",
    "import matplotlib.pyplot as plt\n",
    "plt.plot([0,1,1,2])"
   ]
  },
  {
   "cell_type": "code",
   "execution_count": null,
   "metadata": {},
   "outputs": [],
   "source": [
    "conda install jupyterlab jupyterlab_server tk nodejs\n",
    "pip install ipympl\n",
    "jupyter labextension install @jupyter-widgets/jupyterlab-manager jupyter-matplotlib"
   ]
  },
  {
   "cell_type": "code",
   "execution_count": 120,
   "metadata": {},
   "outputs": [
    {
     "data": {
      "image/png": "[encoded data removed]",
      "text/plain": [
       "<Figure size 432x288 with 1 Axes>"
      ]
     },
     "metadata": {
      "needs_background": "light"
     },
     "output_type": "display_data"
    }
   ],
   "source": [
    "import matplotlib\n",
    "from matplotlib import pyplot as plt\n",
    "matplotlib.use('Agg')\n",
    "\n",
    "@out.capture()\n",
    "def plot():\n",
    "    fig, ax = plt.subplots()  # Create a figure containing a single axes.\n",
    "    ax.plot([1, 2, 3, 4], [1, 4, 2, 3])  # Plot some data on the axes.\n",
    "    ax.get_figure()\n",
    "\n",
    "plot()"
   ]
  },
  {
   "cell_type": "code",
   "execution_count": 119,
   "metadata": {},
   "outputs": [
    {
     "name": "stdout",
     "output_type": "stream",
     "text": [
      "out Output()\n"
     ]
    }
   ],
   "source": [
    "print(\"out\", out)"
   ]
  },
  {
   "cell_type": "code",
   "execution_count": 26,
   "metadata": {},
   "outputs": [],
   "source": [
    "from IPython.utils.capture import capture_output\n",
    "out = True\n",
    "err = True\n",
    "disp = True\n",
    "with capture_output(out, err, disp) as io:\n",
    "    type1.get_figure()"
   ]
  },
  {
   "cell_type": "code",
   "execution_count": 31,
   "metadata": {},
   "outputs": [
    {
     "data": {
      "text/plain": [
       "''"
      ]
     },
     "execution_count": 31,
     "metadata": {},
     "output_type": "execute_result"
    }
   ],
   "source": [
    "io.stdout"
   ]
  },
  {
   "cell_type": "code",
   "execution_count": 59,
   "metadata": {},
   "outputs": [],
   "source": [
    "%matplotlib inline"
   ]
  },
  {
   "cell_type": "code",
   "execution_count": 18,
   "metadata": {},
   "outputs": [
    {
     "data": {
      "application/javascript": [
       "/* Put everything inside the global mpl namespace */\n",
       "window.mpl = {};\n",
       "\n",
       "\n",
       "mpl.get_websocket_type = function() {\n",
       "    if (typeof(WebSocket) !== 'undefined') {\n",
       "        return WebSocket;\n",
       "    } else if (typeof(MozWebSocket) !== 'undefined') {\n",
       "        return MozWebSocket;\n",
       "    } else {\n",
       "        alert('Your browser does not have WebSocket support. ' +\n",
       "              'Please try Chrome, Safari or Firefox ≥ 6. ' +\n",
       "              'Firefox 4 and 5 are also supported but you ' +\n",
       "              'have to enable WebSockets in about:config.');\n",
       "    };\n",
       "}\n",
       "\n",
       "mpl.figure = function(figure_id, websocket, ondownload, parent_element) {\n",
       "    this.id = figure_id;\n",
       "\n",
       "    this.ws = websocket;\n",
       "\n",
       "    this.supports_binary = (this.ws.binaryType != undefined);\n",
       "\n",
       "    if (!this.supports_binary) {\n",
       "        var warnings = document.getElementById(\"mpl-warnings\");\n",
       "        if (warnings) {\n",
       "            warnings.style.display = 'block';\n",
       "            warnings.textContent = (\n",
       "                \"This browser does not support binary websocket messages. \" +\n",
       "                    \"Performance may be slow.\");\n",
       "        }\n",
       "    }\n",
       "\n",
       "    this.imageObj = new Image();\n",
       "\n",
       "    this.context = undefined;\n",
       "    this.message = undefined;\n",
       "    this.canvas = undefined;\n",
       "    this.rubberband_canvas = undefined;\n",
       "    this.rubberband_context = undefined;\n",
       "    this.format_dropdown = undefined;\n",
       "\n",
       "    this.image_mode = 'full';\n",
       "\n",
       "    this.root = $('<div/>');\n",
       "    this._root_extra_style(this.root)\n",
       "    this.root.attr('style', 'display: inline-block');\n",
       "\n",
       "    $(parent_element).append(this.root);\n",
       "\n",
       "    this._init_header(this);\n",
       "    this._init_canvas(this);\n",
       "    this._init_toolbar(this);\n",
       "\n",
       "    var fig = this;\n",
       "\n",
       "    this.waiting = false;\n",
       "\n",
       "    this.ws.onopen =  function () {\n",
       "            fig.send_message(\"supports_binary\", {value: fig.supports_binary});\n",
       "            fig.send_message(\"send_image_mode\", {});\n",
       "            if (mpl.ratio != 1) {\n",
       "                fig.send_message(\"set_dpi_ratio\", {'dpi_ratio': mpl.ratio});\n",
       "            }\n",
       "            fig.send_message(\"refresh\", {});\n",
       "        }\n",
       "\n",
       "    this.imageObj.onload = function() {\n",
       "            if (fig.image_mode == 'full') {\n",
       "                // Full images could contain transparency (where diff images\n",
       "                // almost always do), so we need to clear the canvas so that\n",
       "                // there is no ghosting.\n",
       "                fig.context.clearRect(0, 0, fig.canvas.width, fig.canvas.height);\n",
       "            }\n",
       "            fig.context.drawImage(fig.imageObj, 0, 0);\n",
       "        };\n",
       "\n",
       "    this.imageObj.onunload = function() {\n",
       "        fig.ws.close();\n",
       "    }\n",
       "\n",
       "    this.ws.onmessage = this._make_on_message_function(this);\n",
       "\n",
       "    this.ondownload = ondownload;\n",
       "}\n",
       "\n",
       "mpl.figure.prototype._init_header = function() {\n",
       "    var titlebar = $(\n",
       "        '<div class=\"ui-dialog-titlebar ui-widget-header ui-corner-all ' +\n",
       "        'ui-helper-clearfix\"/>');\n",
       "    var titletext = $(\n",
       "        '<div class=\"ui-dialog-title\" style=\"width: 100%; ' +\n",
       "        'text-align: center; padding: 3px;\"/>');\n",
       "    titlebar.append(titletext)\n",
       "    this.root.append(titlebar);\n",
       "    this.header = titletext[0];\n",
       "}\n",
       "\n",
       "\n",
       "\n",
       "mpl.figure.prototype._canvas_extra_style = function(canvas_div) {\n",
       "\n",
       "}\n",
       "\n",
       "\n",
       "mpl.figure.prototype._root_extra_style = function(canvas_div) {\n",
       "\n",
       "}\n",
       "\n",
       "mpl.figure.prototype._init_canvas = function() {\n",
       "    var fig = this;\n",
       "\n",
       "    var canvas_div = $('<div/>');\n",
       "\n",
       "    canvas_div.attr('style', 'position: relative; clear: both; outline: 0');\n",
       "\n",
       "    function canvas_keyboard_event(event) {\n",
       "        return fig.key_event(event, event['data']);\n",
       "    }\n",
       "\n",
       "    canvas_div.keydown('key_press', canvas_keyboard_event);\n",
       "    canvas_div.keyup('key_release', canvas_keyboard_event);\n",
       "    this.canvas_div = canvas_div\n",
       "    this._canvas_extra_style(canvas_div)\n",
       "    this.root.append(canvas_div);\n",
       "\n",
       "    var canvas = $('<canvas/>');\n",
       "    canvas.addClass('mpl-canvas');\n",
       "    canvas.attr('style', \"left: 0; top: 0; z-index: 0; outline: 0\")\n",
       "\n",
       "    this.canvas = canvas[0];\n",
       "    this.context = canvas[0].getContext(\"2d\");\n",
       "\n",
       "    var backingStore = this.context.backingStorePixelRatio ||\n",
       "\tthis.context.webkitBackingStorePixelRatio ||\n",
       "\tthis.context.mozBackingStorePixelRatio ||\n",
       "\tthis.context.msBackingStorePixelRatio ||\n",
       "\tthis.context.oBackingStorePixelRatio ||\n",
       "\tthis.context.backingStorePixelRatio || 1;\n",
       "\n",
       "    mpl.ratio = (window.devicePixelRatio || 1) / backingStore;\n",
       "\n",
       "    var rubberband = $('<canvas/>');\n",
       "    rubberband.attr('style', \"position: absolute; left: 0; top: 0; z-index: 1;\")\n",
       "\n",
       "    var pass_mouse_events = true;\n",
       "\n",
       "    canvas_div.resizable({\n",
       "        start: function(event, ui) {\n",
       "            pass_mouse_events = false;\n",
       "        },\n",
       "        resize: function(event, ui) {\n",
       "            fig.request_resize(ui.size.width, ui.size.height);\n",
       "        },\n",
       "        stop: function(event, ui) {\n",
       "            pass_mouse_events = true;\n",
       "            fig.request_resize(ui.size.width, ui.size.height);\n",
       "        },\n",
       "    });\n",
       "\n",
       "    function mouse_event_fn(event) {\n",
       "        if (pass_mouse_events)\n",
       "            return fig.mouse_event(event, event['data']);\n",
       "    }\n",
       "\n",
       "    rubberband.mousedown('button_press', mouse_event_fn);\n",
       "    rubberband.mouseup('button_release', mouse_event_fn);\n",
       "    // Throttle sequential mouse events to 1 every 20ms.\n",
       "    rubberband.mousemove('motion_notify', mouse_event_fn);\n",
       "\n",
       "    rubberband.mouseenter('figure_enter', mouse_event_fn);\n",
       "    rubberband.mouseleave('figure_leave', mouse_event_fn);\n",
       "\n",
       "    canvas_div.on(\"wheel\", function (event) {\n",
       "        event = event.originalEvent;\n",
       "        event['data'] = 'scroll'\n",
       "        if (event.deltaY < 0) {\n",
       "            event.step = 1;\n",
       "        } else {\n",
       "            event.step = -1;\n",
       "        }\n",
       "        mouse_event_fn(event);\n",
       "    });\n",
       "\n",
       "    canvas_div.append(canvas);\n",
       "    canvas_div.append(rubberband);\n",
       "\n",
       "    this.rubberband = rubberband;\n",
       "    this.rubberband_canvas = rubberband[0];\n",
       "    this.rubberband_context = rubberband[0].getContext(\"2d\");\n",
       "    this.rubberband_context.strokeStyle = \"#000000\";\n",
       "\n",
       "    this._resize_canvas = function(width, height) {\n",
       "        // Keep the size of the canvas, canvas container, and rubber band\n",
       "        // canvas in synch.\n",
       "        canvas_div.css('width', width)\n",
       "        canvas_div.css('height', height)\n",
       "\n",
       "        canvas.attr('width', width * mpl.ratio);\n",
       "        canvas.attr('height', height * mpl.ratio);\n",
       "        canvas.attr('style', 'width: ' + width + 'px; height: ' + height + 'px;');\n",
       "\n",
       "        rubberband.attr('width', width);\n",
       "        rubberband.attr('height', height);\n",
       "    }\n",
       "\n",
       "    // Set the figure to an initial 600x600px, this will subsequently be updated\n",
       "    // upon first draw.\n",
       "    this._resize_canvas(600, 600);\n",
       "\n",
       "    // Disable right mouse context menu.\n",
       "    $(this.rubberband_canvas).bind(\"contextmenu\",function(e){\n",
       "        return false;\n",
       "    });\n",
       "\n",
       "    function set_focus () {\n",
       "        canvas.focus();\n",
       "        canvas_div.focus();\n",
       "    }\n",
       "\n",
       "    window.setTimeout(set_focus, 100);\n",
       "}\n",
       "\n",
       "mpl.figure.prototype._init_toolbar = function() {\n",
       "    var fig = this;\n",
       "\n",
       "    var nav_element = $('<div/>');\n",
       "    nav_element.attr('style', 'width: 100%');\n",
       "    this.root.append(nav_element);\n",
       "\n",
       "    // Define a callback function for later on.\n",
       "    function toolbar_event(event) {\n",
       "        return fig.toolbar_button_onclick(event['data']);\n",
       "    }\n",
       "    function toolbar_mouse_event(event) {\n",
       "        return fig.toolbar_button_onmouseover(event['data']);\n",
       "    }\n",
       "\n",
       "    for(var toolbar_ind in mpl.toolbar_items) {\n",
       "        var name = mpl.toolbar_items[toolbar_ind][0];\n",
       "        var tooltip = mpl.toolbar_items[toolbar_ind][1];\n",
       "        var image = mpl.toolbar_items[toolbar_ind][2];\n",
       "        var method_name = mpl.toolbar_items[toolbar_ind][3];\n",
       "\n",
       "        if (!name) {\n",
       "            // put a spacer in here.\n",
       "            continue;\n",
       "        }\n",
       "        var button = $('<button/>');\n",
       "        button.addClass('ui-button ui-widget ui-state-default ui-corner-all ' +\n",
       "                        'ui-button-icon-only');\n",
       "        button.attr('role', 'button');\n",
       "        button.attr('aria-disabled', 'false');\n",
       "        button.click(method_name, toolbar_event);\n",
       "        button.mouseover(tooltip, toolbar_mouse_event);\n",
       "\n",
       "        var icon_img = $('<span/>');\n",
       "        icon_img.addClass('ui-button-icon-primary ui-icon');\n",
       "        icon_img.addClass(image);\n",
       "        icon_img.addClass('ui-corner-all');\n",
       "\n",
       "        var tooltip_span = $('<span/>');\n",
       "        tooltip_span.addClass('ui-button-text');\n",
       "        tooltip_span.html(tooltip);\n",
       "\n",
       "        button.append(icon_img);\n",
       "        button.append(tooltip_span);\n",
       "\n",
       "        nav_element.append(button);\n",
       "    }\n",
       "\n",
       "    var fmt_picker_span = $('<span/>');\n",
       "\n",
       "    var fmt_picker = $('<select/>');\n",
       "    fmt_picker.addClass('mpl-toolbar-option ui-widget ui-widget-content');\n",
       "    fmt_picker_span.append(fmt_picker);\n",
       "    nav_element.append(fmt_picker_span);\n",
       "    this.format_dropdown = fmt_picker[0];\n",
       "\n",
       "    for (var ind in mpl.extensions) {\n",
       "        var fmt = mpl.extensions[ind];\n",
       "        var option = $(\n",
       "            '<option/>', {selected: fmt === mpl.default_extension}).html(fmt);\n",
       "        fmt_picker.append(option);\n",
       "    }\n",
       "\n",
       "    // Add hover states to the ui-buttons\n",
       "    $( \".ui-button\" ).hover(\n",
       "        function() { $(this).addClass(\"ui-state-hover\");},\n",
       "        function() { $(this).removeClass(\"ui-state-hover\");}\n",
       "    );\n",
       "\n",
       "    var status_bar = $('<span class=\"mpl-message\"/>');\n",
       "    nav_element.append(status_bar);\n",
       "    this.message = status_bar[0];\n",
       "}\n",
       "\n",
       "mpl.figure.prototype.request_resize = function(x_pixels, y_pixels) {\n",
       "    // Request matplotlib to resize the figure. Matplotlib will then trigger a resize in the client,\n",
       "    // which will in turn request a refresh of the image.\n",
       "    this.send_message('resize', {'width': x_pixels, 'height': y_pixels});\n",
       "}\n",
       "\n",
       "mpl.figure.prototype.send_message = function(type, properties) {\n",
       "    properties['type'] = type;\n",
       "    properties['figure_id'] = this.id;\n",
       "    this.ws.send(JSON.stringify(properties));\n",
       "}\n",
       "\n",
       "mpl.figure.prototype.send_draw_message = function() {\n",
       "    if (!this.waiting) {\n",
       "        this.waiting = true;\n",
       "        this.ws.send(JSON.stringify({type: \"draw\", figure_id: this.id}));\n",
       "    }\n",
       "}\n",
       "\n",
       "\n",
       "mpl.figure.prototype.handle_save = function(fig, msg) {\n",
       "    var format_dropdown = fig.format_dropdown;\n",
       "    var format = format_dropdown.options[format_dropdown.selectedIndex].value;\n",
       "    fig.ondownload(fig, format);\n",
       "}\n",
       "\n",
       "\n",
       "mpl.figure.prototype.handle_resize = function(fig, msg) {\n",
       "    var size = msg['size'];\n",
       "    if (size[0] != fig.canvas.width || size[1] != fig.canvas.height) {\n",
       "        fig._resize_canvas(size[0], size[1]);\n",
       "        fig.send_message(\"refresh\", {});\n",
       "    };\n",
       "}\n",
       "\n",
       "mpl.figure.prototype.handle_rubberband = function(fig, msg) {\n",
       "    var x0 = msg['x0'] / mpl.ratio;\n",
       "    var y0 = (fig.canvas.height - msg['y0']) / mpl.ratio;\n",
       "    var x1 = msg['x1'] / mpl.ratio;\n",
       "    var y1 = (fig.canvas.height - msg['y1']) / mpl.ratio;\n",
       "    x0 = Math.floor(x0) + 0.5;\n",
       "    y0 = Math.floor(y0) + 0.5;\n",
       "    x1 = Math.floor(x1) + 0.5;\n",
       "    y1 = Math.floor(y1) + 0.5;\n",
       "    var min_x = Math.min(x0, x1);\n",
       "    var min_y = Math.min(y0, y1);\n",
       "    var width = Math.abs(x1 - x0);\n",
       "    var height = Math.abs(y1 - y0);\n",
       "\n",
       "    fig.rubberband_context.clearRect(\n",
       "        0, 0, fig.canvas.width / mpl.ratio, fig.canvas.height / mpl.ratio);\n",
       "\n",
       "    fig.rubberband_context.strokeRect(min_x, min_y, width, height);\n",
       "}\n",
       "\n",
       "mpl.figure.prototype.handle_figure_label = function(fig, msg) {\n",
       "    // Updates the figure title.\n",
       "    fig.header.textContent = msg['label'];\n",
       "}\n",
       "\n",
       "mpl.figure.prototype.handle_cursor = function(fig, msg) {\n",
       "    var cursor = msg['cursor'];\n",
       "    switch(cursor)\n",
       "    {\n",
       "    case 0:\n",
       "        cursor = 'pointer';\n",
       "        break;\n",
       "    case 1:\n",
       "        cursor = 'default';\n",
       "        break;\n",
       "    case 2:\n",
       "        cursor = 'crosshair';\n",
       "        break;\n",
       "    case 3:\n",
       "        cursor = 'move';\n",
       "        break;\n",
       "    }\n",
       "    fig.rubberband_canvas.style.cursor = cursor;\n",
       "}\n",
       "\n",
       "mpl.figure.prototype.handle_message = function(fig, msg) {\n",
       "    fig.message.textContent = msg['message'];\n",
       "}\n",
       "\n",
       "mpl.figure.prototype.handle_draw = function(fig, msg) {\n",
       "    // Request the server to send over a new figure.\n",
       "    fig.send_draw_message();\n",
       "}\n",
       "\n",
       "mpl.figure.prototype.handle_image_mode = function(fig, msg) {\n",
       "    fig.image_mode = msg['mode'];\n",
       "}\n",
       "\n",
       "mpl.figure.prototype.updated_canvas_event = function() {\n",
       "    // Called whenever the canvas gets updated.\n",
       "    this.send_message(\"ack\", {});\n",
       "}\n",
       "\n",
       "// A function to construct a web socket function for onmessage handling.\n",
       "// Called in the figure constructor.\n",
       "mpl.figure.prototype._make_on_message_function = function(fig) {\n",
       "    return function socket_on_message(evt) {\n",
       "        if (evt.data instanceof Blob) {\n",
       "            /* FIXME: We get \"Resource interpreted as Image but\n",
       "             * transferred with MIME type text/plain:\" errors on\n",
       "             * Chrome.  But how to set the MIME type?  It doesn't seem\n",
       "             * to be part of the websocket stream */\n",
       "            evt.data.type = \"image/png\";\n",
       "\n",
       "            /* Free the memory for the previous frames */\n",
       "            if (fig.imageObj.src) {\n",
       "                (window.URL || window.webkitURL).revokeObjectURL(\n",
       "                    fig.imageObj.src);\n",
       "            }\n",
       "\n",
       "            fig.imageObj.src = (window.URL || window.webkitURL).createObjectURL(\n",
       "                evt.data);\n",
       "            fig.updated_canvas_event();\n",
       "            fig.waiting = false;\n",
       "            return;\n",
       "        }\n",
       "        else if (typeof evt.data === 'string' && evt.data.slice(0, 21) == \"data:image/png;base64\") {\n",
       "            fig.imageObj.src = evt.data;\n",
       "            fig.updated_canvas_event();\n",
       "            fig.waiting = false;\n",
       "            return;\n",
       "        }\n",
       "\n",
       "        var msg = JSON.parse(evt.data);\n",
       "        var msg_type = msg['type'];\n",
       "\n",
       "        // Call the  \"handle_{type}\" callback, which takes\n",
       "        // the figure and JSON message as its only arguments.\n",
       "        try {\n",
       "            var callback = fig[\"handle_\" + msg_type];\n",
       "        } catch (e) {\n",
       "            console.log(\"No handler for the '\" + msg_type + \"' message type: \", msg);\n",
       "            return;\n",
       "        }\n",
       "\n",
       "        if (callback) {\n",
       "            try {\n",
       "                // console.log(\"Handling '\" + msg_type + \"' message: \", msg);\n",
       "                callback(fig, msg);\n",
       "            } catch (e) {\n",
       "                console.log(\"Exception inside the 'handler_\" + msg_type + \"' callback:\", e, e.stack, msg);\n",
       "            }\n",
       "        }\n",
       "    };\n",
       "}\n",
       "\n",
       "// from http://stackoverflow.com/questions/1114465/getting-mouse-location-in-canvas\n",
       "mpl.findpos = function(e) {\n",
       "    //this section is from http://www.quirksmode.org/js/events_properties.html\n",
       "    var targ;\n",
       "    if (!e)\n",
       "        e = window.event;\n",
       "    if (e.target)\n",
       "        targ = e.target;\n",
       "    else if (e.srcElement)\n",
       "        targ = e.srcElement;\n",
       "    if (targ.nodeType == 3) // defeat Safari bug\n",
       "        targ = targ.parentNode;\n",
       "\n",
       "    // jQuery normalizes the pageX and pageY\n",
       "    // pageX,Y are the mouse positions relative to the document\n",
       "    // offset() returns the position of the element relative to the document\n",
       "    var x = e.pageX - $(targ).offset().left;\n",
       "    var y = e.pageY - $(targ).offset().top;\n",
       "\n",
       "    return {\"x\": x, \"y\": y};\n",
       "};\n",
       "\n",
       "/*\n",
       " * return a copy of an object with only non-object keys\n",
       " * we need this to avoid circular references\n",
       " * http://stackoverflow.com/a/24161582/3208463\n",
       " */\n",
       "function simpleKeys (original) {\n",
       "  return Object.keys(original).reduce(function (obj, key) {\n",
       "    if (typeof original[key] !== 'object')\n",
       "        obj[key] = original[key]\n",
       "    return obj;\n",
       "  }, {});\n",
       "}\n",
       "\n",
       "mpl.figure.prototype.mouse_event = function(event, name) {\n",
       "    var canvas_pos = mpl.findpos(event)\n",
       "\n",
       "    if (name === 'button_press')\n",
       "    {\n",
       "        this.canvas.focus();\n",
       "        this.canvas_div.focus();\n",
       "    }\n",
       "\n",
       "    var x = canvas_pos.x * mpl.ratio;\n",
       "    var y = canvas_pos.y * mpl.ratio;\n",
       "\n",
       "    this.send_message(name, {x: x, y: y, button: event.button,\n",
       "                             step: event.step,\n",
       "                             guiEvent: simpleKeys(event)});\n",
       "\n",
       "    /* This prevents the web browser from automatically changing to\n",
       "     * the text insertion cursor when the button is pressed.  We want\n",
       "     * to control all of the cursor setting manually through the\n",
       "     * 'cursor' event from matplotlib */\n",
       "    event.preventDefault();\n",
       "    return false;\n",
       "}\n",
       "\n",
       "mpl.figure.prototype._key_event_extra = function(event, name) {\n",
       "    // Handle any extra behaviour associated with a key event\n",
       "}\n",
       "\n",
       "mpl.figure.prototype.key_event = function(event, name) {\n",
       "\n",
       "    // Prevent repeat events\n",
       "    if (name == 'key_press')\n",
       "    {\n",
       "        if (event.which === this._key)\n",
       "            return;\n",
       "        else\n",
       "            this._key = event.which;\n",
       "    }\n",
       "    if (name == 'key_release')\n",
       "        this._key = null;\n",
       "\n",
       "    var value = '';\n",
       "    if (event.ctrlKey && event.which != 17)\n",
       "        value += \"ctrl+\";\n",
       "    if (event.altKey && event.which != 18)\n",
       "        value += \"alt+\";\n",
       "    if (event.shiftKey && event.which != 16)\n",
       "        value += \"shift+\";\n",
       "\n",
       "    value += 'k';\n",
       "    value += event.which.toString();\n",
       "\n",
       "    this._key_event_extra(event, name);\n",
       "\n",
       "    this.send_message(name, {key: value,\n",
       "                             guiEvent: simpleKeys(event)});\n",
       "    return false;\n",
       "}\n",
       "\n",
       "mpl.figure.prototype.toolbar_button_onclick = function(name) {\n",
       "    if (name == 'download') {\n",
       "        this.handle_save(this, null);\n",
       "    } else {\n",
       "        this.send_message(\"toolbar_button\", {name: name});\n",
       "    }\n",
       "};\n",
       "\n",
       "mpl.figure.prototype.toolbar_button_onmouseover = function(tooltip) {\n",
       "    this.message.textContent = tooltip;\n",
       "};\n",
       "mpl.toolbar_items = [[\"Home\", \"Reset original view\", \"fa fa-home icon-home\", \"home\"], [\"Back\", \"Back to previous view\", \"fa fa-arrow-left icon-arrow-left\", \"back\"], [\"Forward\", \"Forward to next view\", \"fa fa-arrow-right icon-arrow-right\", \"forward\"], [\"\", \"\", \"\", \"\"], [\"Pan\", \"Pan axes with left mouse, zoom with right\", \"fa fa-arrows icon-move\", \"pan\"], [\"Zoom\", \"Zoom to rectangle\", \"fa fa-square-o icon-check-empty\", \"zoom\"], [\"\", \"\", \"\", \"\"], [\"Download\", \"Download plot\", \"fa fa-floppy-o icon-save\", \"download\"]];\n",
       "\n",
       "mpl.extensions = [\"eps\", \"jpeg\", \"pdf\", \"png\", \"ps\", \"raw\", \"svg\", \"tif\"];\n",
       "\n",
       "mpl.default_extension = \"png\";var comm_websocket_adapter = function(comm) {\n",
       "    // Create a \"websocket\"-like object which calls the given IPython comm\n",
       "    // object with the appropriate methods. Currently this is a non binary\n",
       "    // socket, so there is still some room for performance tuning.\n",
       "    var ws = {};\n",
       "\n",
       "    ws.close = function() {\n",
       "        comm.close()\n",
       "    };\n",
       "    ws.send = function(m) {\n",
       "        //console.log('sending', m);\n",
       "        comm.send(m);\n",
       "    };\n",
       "    // Register the callback with on_msg.\n",
       "    comm.on_msg(function(msg) {\n",
       "        //console.log('receiving', msg['content']['data'], msg);\n",
       "        // Pass the mpl event to the overridden (by mpl) onmessage function.\n",
       "        ws.onmessage(msg['content']['data'])\n",
       "    });\n",
       "    return ws;\n",
       "}\n",
       "\n",
       "mpl.mpl_figure_comm = function(comm, msg) {\n",
       "    // This is the function which gets called when the mpl process\n",
       "    // starts-up an IPython Comm through the \"matplotlib\" channel.\n",
       "\n",
       "    var id = msg.content.data.id;\n",
       "    // Get hold of the div created by the display call when the Comm\n",
       "    // socket was opened in Python.\n",
       "    var element = $(\"#\" + id);\n",
       "    var ws_proxy = comm_websocket_adapter(comm)\n",
       "\n",
       "    function ondownload(figure, format) {\n",
       "        window.open(figure.imageObj.src);\n",
       "    }\n",
       "\n",
       "    var fig = new mpl.figure(id, ws_proxy,\n",
       "                           ondownload,\n",
       "                           element.get(0));\n",
       "\n",
       "    // Call onopen now - mpl needs it, as it is assuming we've passed it a real\n",
       "    // web socket which is closed, not our websocket->open comm proxy.\n",
       "    ws_proxy.onopen();\n",
       "\n",
       "    fig.parent_element = element.get(0);\n",
       "    fig.cell_info = mpl.find_output_cell(\"<div id='\" + id + \"'></div>\");\n",
       "    if (!fig.cell_info) {\n",
       "        console.error(\"Failed to find cell for figure\", id, fig);\n",
       "        return;\n",
       "    }\n",
       "\n",
       "    var output_index = fig.cell_info[2]\n",
       "    var cell = fig.cell_info[0];\n",
       "\n",
       "};\n",
       "\n",
       "mpl.figure.prototype.handle_close = function(fig, msg) {\n",
       "    var width = fig.canvas.width/mpl.ratio\n",
       "    fig.root.unbind('remove')\n",
       "\n",
       "    // Update the output cell to use the data from the current canvas.\n",
       "    fig.push_to_output();\n",
       "    var dataURL = fig.canvas.toDataURL();\n",
       "    // Re-enable the keyboard manager in IPython - without this line, in FF,\n",
       "    // the notebook keyboard shortcuts fail.\n",
       "    IPython.keyboard_manager.enable()\n",
       "    $(fig.parent_element).html('<img src=\"' + dataURL + '\" width=\"' + width + '\">');\n",
       "    fig.close_ws(fig, msg);\n",
       "}\n",
       "\n",
       "mpl.figure.prototype.close_ws = function(fig, msg){\n",
       "    fig.send_message('closing', msg);\n",
       "    // fig.ws.close()\n",
       "}\n",
       "\n",
       "mpl.figure.prototype.push_to_output = function(remove_interactive) {\n",
       "    // Turn the data on the canvas into data in the output cell.\n",
       "    var width = this.canvas.width/mpl.ratio\n",
       "    var dataURL = this.canvas.toDataURL();\n",
       "    this.cell_info[1]['text/html'] = '<img src=\"' + dataURL + '\" width=\"' + width + '\">';\n",
       "}\n",
       "\n",
       "mpl.figure.prototype.updated_canvas_event = function() {\n",
       "    // Tell IPython that the notebook contents must change.\n",
       "    IPython.notebook.set_dirty(true);\n",
       "    this.send_message(\"ack\", {});\n",
       "    var fig = this;\n",
       "    // Wait a second, then push the new image to the DOM so\n",
       "    // that it is saved nicely (might be nice to debounce this).\n",
       "    setTimeout(function () { fig.push_to_output() }, 1000);\n",
       "}\n",
       "\n",
       "mpl.figure.prototype._init_toolbar = function() {\n",
       "    var fig = this;\n",
       "\n",
       "    var nav_element = $('<div/>');\n",
       "    nav_element.attr('style', 'width: 100%');\n",
       "    this.root.append(nav_element);\n",
       "\n",
       "    // Define a callback function for later on.\n",
       "    function toolbar_event(event) {\n",
       "        return fig.toolbar_button_onclick(event['data']);\n",
       "    }\n",
       "    function toolbar_mouse_event(event) {\n",
       "        return fig.toolbar_button_onmouseover(event['data']);\n",
       "    }\n",
       "\n",
       "    for(var toolbar_ind in mpl.toolbar_items){\n",
       "        var name = mpl.toolbar_items[toolbar_ind][0];\n",
       "        var tooltip = mpl.toolbar_items[toolbar_ind][1];\n",
       "        var image = mpl.toolbar_items[toolbar_ind][2];\n",
       "        var method_name = mpl.toolbar_items[toolbar_ind][3];\n",
       "\n",
       "        if (!name) { continue; };\n",
       "\n",
       "        var button = $('<button class=\"btn btn-default\" href=\"#\" title=\"' + name + '\"><i class=\"fa ' + image + ' fa-lg\"></i></button>');\n",
       "        button.click(method_name, toolbar_event);\n",
       "        button.mouseover(tooltip, toolbar_mouse_event);\n",
       "        nav_element.append(button);\n",
       "    }\n",
       "\n",
       "    // Add the status bar.\n",
       "    var status_bar = $('<span class=\"mpl-message\" style=\"text-align:right; float: right;\"/>');\n",
       "    nav_element.append(status_bar);\n",
       "    this.message = status_bar[0];\n",
       "\n",
       "    // Add the close button to the window.\n",
       "    var buttongrp = $('<div class=\"btn-group inline pull-right\"></div>');\n",
       "    var button = $('<button class=\"btn btn-mini btn-primary\" href=\"#\" title=\"Stop Interaction\"><i class=\"fa fa-power-off icon-remove icon-large\"></i></button>');\n",
       "    button.click(function (evt) { fig.handle_close(fig, {}); } );\n",
       "    button.mouseover('Stop Interaction', toolbar_mouse_event);\n",
       "    buttongrp.append(button);\n",
       "    var titlebar = this.root.find($('.ui-dialog-titlebar'));\n",
       "    titlebar.prepend(buttongrp);\n",
       "}\n",
       "\n",
       "mpl.figure.prototype._root_extra_style = function(el){\n",
       "    var fig = this\n",
       "    el.on(\"remove\", function(){\n",
       "\tfig.close_ws(fig, {});\n",
       "    });\n",
       "}\n",
       "\n",
       "mpl.figure.prototype._canvas_extra_style = function(el){\n",
       "    // this is important to make the div 'focusable\n",
       "    el.attr('tabindex', 0)\n",
       "    // reach out to IPython and tell the keyboard manager to turn it's self\n",
       "    // off when our div gets focus\n",
       "\n",
       "    // location in version 3\n",
       "    if (IPython.notebook.keyboard_manager) {\n",
       "        IPython.notebook.keyboard_manager.register_events(el);\n",
       "    }\n",
       "    else {\n",
       "        // location in version 2\n",
       "        IPython.keyboard_manager.register_events(el);\n",
       "    }\n",
       "\n",
       "}\n",
       "\n",
       "mpl.figure.prototype._key_event_extra = function(event, name) {\n",
       "    var manager = IPython.notebook.keyboard_manager;\n",
       "    if (!manager)\n",
       "        manager = IPython.keyboard_manager;\n",
       "\n",
       "    // Check for shift+enter\n",
       "    if (event.shiftKey && event.which == 13) {\n",
       "        this.canvas_div.blur();\n",
       "        // select the cell after this one\n",
       "        var index = IPython.notebook.find_cell_index(this.cell_info[0]);\n",
       "        IPython.notebook.select(index + 1);\n",
       "    }\n",
       "}\n",
       "\n",
       "mpl.figure.prototype.handle_save = function(fig, msg) {\n",
       "    fig.ondownload(fig, null);\n",
       "}\n",
       "\n",
       "\n",
       "mpl.find_output_cell = function(html_output) {\n",
       "    // Return the cell and output element which can be found *uniquely* in the notebook.\n",
       "    // Note - this is a bit hacky, but it is done because the \"notebook_saving.Notebook\"\n",
       "    // IPython event is triggered only after the cells have been serialised, which for\n",
       "    // our purposes (turning an active figure into a static one), is too late.\n",
       "    var cells = IPython.notebook.get_cells();\n",
       "    var ncells = cells.length;\n",
       "    for (var i=0; i<ncells; i++) {\n",
       "        var cell = cells[i];\n",
       "        if (cell.cell_type === 'code'){\n",
       "            for (var j=0; j<cell.output_area.outputs.length; j++) {\n",
       "                var data = cell.output_area.outputs[j];\n",
       "                if (data.data) {\n",
       "                    // IPython >= 3 moved mimebundle to data attribute of output\n",
       "                    data = data.data;\n",
       "                }\n",
       "                if (data['text/html'] == html_output) {\n",
       "                    return [cell, data, j];\n",
       "                }\n",
       "            }\n",
       "        }\n",
       "    }\n",
       "}\n",
       "\n",
       "// Register the function which deals with the matplotlib target/channel.\n",
       "// The kernel may be null if the page has been refreshed.\n",
       "if (IPython.notebook.kernel != null) {\n",
       "    IPython.notebook.kernel.comm_manager.register_target('matplotlib', mpl.mpl_figure_comm);\n",
       "}\n"
      ],
      "text/plain": [
       "<IPython.core.display.Javascript object>"
      ]
     },
     "metadata": {},
     "output_type": "display_data"
    },
    {
     "data": {
      "text/html": [
       "<div id='c61888fc-5a64-4872-9b27-b52c43b030d6'></div>"
      ],
      "text/plain": [
       "<IPython.core.display.HTML object>"
      ]
     },
     "metadata": {},
     "output_type": "display_data"
    }
   ],
   "source": [
    "from yellowbrick.model_selection import LearningCurve\n",
    "\n",
    "model = pipe\n",
    "X, y = train_l.get_Xy()\n",
    "    \n",
    "#cv = StratifiedKFold(n_splits=12)\n",
    "sizes = np.linspace(0.3, 1.0, 10)\n",
    "\n",
    "visualizer = LearningCurve(model, cv=12, scoring=\"accuracy\", train_sizes=sizes, n_jobs=-1)\n",
    "\n",
    "visualizer.fit(X, y)        # Fit the data to the visualizer\n",
    "figsize(12,5)\n",
    "type1 = visualizer.show()  "
   ]
  },
  {
   "cell_type": "code",
   "execution_count": 18,
   "metadata": {},
   "outputs": [],
   "source": [
    "figsize(12,5)\n",
    "type2=pd.DataFrame({\"a\": [1,2], \"b\": [3,5]}).plot.bar()"
   ]
  },
  {
   "cell_type": "code",
   "execution_count": 33,
   "metadata": {},
   "outputs": [],
   "source": [
    "type1.get_figure()\n",
    "\n",
    "from ipywidgets import Output\n",
    "out = Output()\n",
    "with out:\n",
    "    type1.get_figure()\n",
    "    type2.get_figure()"
   ]
  },
  {
   "cell_type": "code",
   "execution_count": 34,
   "metadata": {},
   "outputs": [
    {
     "data": {
      "application/vnd.jupyter.widget-view+json": {
       "model_id": "95f31fc199584268934e102faed660f2",
       "version_major": 2,
       "version_minor": 0
      },
      "text/plain": [
       "Output()"
      ]
     },
     "metadata": {},
     "output_type": "display_data"
    }
   ],
   "source": [
    "out"
   ]
  },
  {
   "cell_type": "code",
   "execution_count": 37,
   "metadata": {},
   "outputs": [
    {
     "data": {
      "image/png": "[encoded data removed]",
      "text/plain": [
       "<Figure size 1200x500 with 1 Axes>"
      ]
     },
     "execution_count": 37,
     "metadata": {},
     "output_type": "execute_result"
    }
   ],
   "source": [
    "type2.get_figure()"
   ]
  },
  {
   "cell_type": "code",
   "execution_count": 38,
   "metadata": {},
   "outputs": [
    {
     "data": {
      "image/png": "[encoded data removed]",
      "text/plain": [
       "<Figure size 800x550 with 1 Axes>"
      ]
     },
     "execution_count": 38,
     "metadata": {},
     "output_type": "execute_result"
    }
   ],
   "source": [
    "type1.get_figure()"
   ]
  },
  {
   "cell_type": "code",
   "execution_count": null,
   "metadata": {},
   "outputs": [],
   "source": [
    "with ab:\n",
    "    "
   ]
  },
  {
   "cell_type": "markdown",
   "metadata": {},
   "source": [
    "## Magic"
   ]
  },
  {
   "cell_type": "code",
   "execution_count": null,
   "metadata": {},
   "outputs": [],
   "source": [
    "from IPython.core.magic import (register_line_magic, register_cell_magic,\n",
    "                                register_line_cell_magic)\n",
    "\n",
    "@register_line_magic\n",
    "def lmagic(line):\n",
    "    \"my line magic\"\n",
    "    return line\n",
    "\n",
    "@register_cell_magic\n",
    "def cmagic(line, cell):\n",
    "    \"my cell magic\"\n",
    "    return line, cell\n",
    "\n",
    "@register_line_cell_magic\n",
    "def lcmagic(line, cell=None):\n",
    "    \"Magic that works both as %lcmagic and as %%lcmagic\"\n",
    "    if cell is None:\n",
    "        print(\"Called as line magic\")\n",
    "        return line\n",
    "    else:\n",
    "        print(\"Called as cell magic\")\n",
    "        return line, cell\n",
    "\n",
    "# In an interactive session, we need to delete these to avoid\n",
    "# name conflicts for automagic to work on line magics.\n",
    "del lmagic, lcmagic"
   ]
  },
  {
   "cell_type": "markdown",
   "metadata": {},
   "source": [
    "## Logger"
   ]
  },
  {
   "cell_type": "code",
   "execution_count": null,
   "metadata": {},
   "outputs": [],
   "source": []
  },
  {
   "cell_type": "code",
   "execution_count": 21,
   "metadata": {},
   "outputs": [],
   "source": [
    "from mlflow.tracking import fluent\n",
    "\n",
    "mlflow = MLFlowHelper(fluent, \"accuracy\")"
   ]
  },
  {
   "cell_type": "code",
   "execution_count": 22,
   "metadata": {},
   "outputs": [
    {
     "data": {
      "text/html": [
       "<div>\n",
       "<style scoped>\n",
       "    .dataframe tbody tr th:only-of-type {\n",
       "        vertical-align: middle;\n",
       "    }\n",
       "\n",
       "    .dataframe tbody tr th {\n",
       "        vertical-align: top;\n",
       "    }\n",
       "\n",
       "    .dataframe thead th {\n",
       "        text-align: right;\n",
       "    }\n",
       "</style>\n",
       "<table border=\"1\" class=\"dataframe\">\n",
       "  <thead>\n",
       "    <tr style=\"text-align: right;\">\n",
       "      <th></th>\n",
       "      <th>run_id</th>\n",
       "      <th>experiment_id</th>\n",
       "      <th>status</th>\n",
       "      <th>start_time</th>\n",
       "      <th>metrics.accuracy</th>\n",
       "      <th>metrics.std_accuracy</th>\n",
       "      <th>tags.mlflow.user</th>\n",
       "      <th>tags.mlflow.source.name</th>\n",
       "      <th>tags.mlflow.source.type</th>\n",
       "    </tr>\n",
       "  </thead>\n",
       "  <tbody>\n",
       "    <tr>\n",
       "      <th>0</th>\n",
       "      <td>aff341e1de6d41aaaf74d7542ce23a92</td>\n",
       "      <td>0</td>\n",
       "      <td>FAILED</td>\n",
       "      <td>2020-03-09 16:35:21.670000+00:00</td>\n",
       "      <td>0.842896</td>\n",
       "      <td>0.023891</td>\n",
       "      <td>nicokreiling</td>\n",
       "      <td>/Users/nicokreiling/anaconda3/envs/ds/lib/pyth...</td>\n",
       "      <td>LOCAL</td>\n",
       "    </tr>\n",
       "  </tbody>\n",
       "</table>\n",
       "</div>"
      ],
      "text/plain": [
       "                             run_id experiment_id  status  \\\n",
       "0  aff341e1de6d41aaaf74d7542ce23a92             0  FAILED   \n",
       "\n",
       "                        start_time  metrics.accuracy  metrics.std_accuracy  \\\n",
       "0 2020-03-09 16:35:21.670000+00:00          0.842896              0.023891   \n",
       "\n",
       "  tags.mlflow.user                            tags.mlflow.source.name  \\\n",
       "0     nicokreiling  /Users/nicokreiling/anaconda3/envs/ds/lib/pyth...   \n",
       "\n",
       "  tags.mlflow.source.type  \n",
       "0                   LOCAL  "
      ]
     },
     "execution_count": 22,
     "metadata": {},
     "output_type": "execute_result"
    }
   ],
   "source": [
    "mlflow.best_runs()"
   ]
  },
  {
   "cell_type": "code",
   "execution_count": null,
   "metadata": {},
   "outputs": [],
   "source": [
    "# Annotation"
   ]
  },
  {
   "cell_type": "code",
   "execution_count": 16,
   "metadata": {},
   "outputs": [],
   "source": [
    "#@track\n",
    "def train(pipe):\n",
    "    learning_curve(pipe, *train_l.get_Xy())\n",
    "    \n",
    "    cv_result = cross_val_score(pipe, X, y = y, scoring = \"accuracy\", cv = 5, n_jobs=-1)\n",
    "    print(\"accuracy:\", cv_result.mean())\n",
    "    print(\"std accuracy:\", cv_result.std())\n",
    "    clf = pipe.fit(X, y)\n",
    "    pipe.fit(X, y)\n",
    "    feature_importance(clf.steps[1][1], X)\n",
    "    \n",
    "    return pipe, cv_result"
   ]
  },
  {
   "cell_type": "code",
   "execution_count": 17,
   "metadata": {},
   "outputs": [
    {
     "data": {
      "application/javascript": [
       "\n",
       "        if (window._pyforest_update_imports_cell) { window._pyforest_update_imports_cell('from sklearn.ensemble import GradientBoostingClassifier\\nimport matplotlib.pyplot as plt\\nimport sklearn'); }\n",
       "    "
      ],
      "text/plain": [
       "<IPython.core.display.Javascript object>"
      ]
     },
     "metadata": {},
     "output_type": "display_data"
    },
    {
     "ename": "NameError",
     "evalue": "name 'learning_curve' is not defined",
     "output_type": "error",
     "traceback": [
      "\u001b[0;31m---------------------------------------------------------------------------\u001b[0m",
      "\u001b[0;31mNameError\u001b[0m                                 Traceback (most recent call last)",
      "\u001b[0;32m<ipython-input-17-6b171de7e56e>\u001b[0m in \u001b[0;36m<module>\u001b[0;34m\u001b[0m\n\u001b[1;32m     10\u001b[0m \u001b[0;32mwith\u001b[0m \u001b[0mout\u001b[0m\u001b[0;34m:\u001b[0m\u001b[0;34m\u001b[0m\u001b[0;34m\u001b[0m\u001b[0m\n\u001b[1;32m     11\u001b[0m     \u001b[0mresult\u001b[0m \u001b[0;34m=\u001b[0m \u001b[0mfunc\u001b[0m\u001b[0;34m(\u001b[0m\u001b[0;34m*\u001b[0m\u001b[0margs\u001b[0m\u001b[0;34m,\u001b[0m \u001b[0;34m**\u001b[0m\u001b[0mkwargs\u001b[0m\u001b[0;34m)\u001b[0m\u001b[0;34m\u001b[0m\u001b[0;34m\u001b[0m\u001b[0m\n\u001b[0;32m---> 12\u001b[0;31m \u001b[0mreturn_val\u001b[0m \u001b[0;34m=\u001b[0m \u001b[0mtrain\u001b[0m\u001b[0;34m(\u001b[0m\u001b[0mpipe\u001b[0m\u001b[0;34m)\u001b[0m\u001b[0;34m\u001b[0m\u001b[0;34m\u001b[0m\u001b[0m\n\u001b[0m\u001b[1;32m     13\u001b[0m \u001b[0mreturn_val\u001b[0m\u001b[0;34m\u001b[0m\u001b[0;34m\u001b[0m\u001b[0m\n",
      "\u001b[0;32m<ipython-input-16-362d705a7336>\u001b[0m in \u001b[0;36mtrain\u001b[0;34m(pipe)\u001b[0m\n\u001b[1;32m      1\u001b[0m \u001b[0;31m#@track\u001b[0m\u001b[0;34m\u001b[0m\u001b[0;34m\u001b[0m\u001b[0;34m\u001b[0m\u001b[0m\n\u001b[1;32m      2\u001b[0m \u001b[0;32mdef\u001b[0m \u001b[0mtrain\u001b[0m\u001b[0;34m(\u001b[0m\u001b[0mpipe\u001b[0m\u001b[0;34m)\u001b[0m\u001b[0;34m:\u001b[0m\u001b[0;34m\u001b[0m\u001b[0;34m\u001b[0m\u001b[0m\n\u001b[0;32m----> 3\u001b[0;31m     \u001b[0mlearning_curve\u001b[0m\u001b[0;34m(\u001b[0m\u001b[0mpipe\u001b[0m\u001b[0;34m,\u001b[0m \u001b[0;34m*\u001b[0m\u001b[0mtrain_l\u001b[0m\u001b[0;34m.\u001b[0m\u001b[0mget_Xy\u001b[0m\u001b[0;34m(\u001b[0m\u001b[0;34m)\u001b[0m\u001b[0;34m)\u001b[0m\u001b[0;34m\u001b[0m\u001b[0;34m\u001b[0m\u001b[0m\n\u001b[0m\u001b[1;32m      4\u001b[0m \u001b[0;34m\u001b[0m\u001b[0m\n\u001b[1;32m      5\u001b[0m     \u001b[0mcv_result\u001b[0m \u001b[0;34m=\u001b[0m \u001b[0mcross_val_score\u001b[0m\u001b[0;34m(\u001b[0m\u001b[0mpipe\u001b[0m\u001b[0;34m,\u001b[0m \u001b[0mX\u001b[0m\u001b[0;34m,\u001b[0m \u001b[0my\u001b[0m \u001b[0;34m=\u001b[0m \u001b[0my\u001b[0m\u001b[0;34m,\u001b[0m \u001b[0mscoring\u001b[0m \u001b[0;34m=\u001b[0m \u001b[0;34m\"accuracy\"\u001b[0m\u001b[0;34m,\u001b[0m \u001b[0mcv\u001b[0m \u001b[0;34m=\u001b[0m \u001b[0;36m5\u001b[0m\u001b[0;34m,\u001b[0m \u001b[0mn_jobs\u001b[0m\u001b[0;34m=\u001b[0m\u001b[0;34m-\u001b[0m\u001b[0;36m1\u001b[0m\u001b[0;34m)\u001b[0m\u001b[0;34m\u001b[0m\u001b[0;34m\u001b[0m\u001b[0m\n",
      "\u001b[0;31mNameError\u001b[0m: name 'learning_curve' is not defined"
     ]
    }
   ],
   "source": [
    "gb_params = {'n_estimators': 96,'min_samples_leaf': 2,'max_depth': 3,'learning_rate': 0.25}\n",
    "model = GradientBoostingClassifier(**gb_params)\n",
    "pipe = Pipeline(steps=[\n",
    "    (\"prepare\",ModelPreperation()), \n",
    "    (\"clr\",model)\n",
    "])\n",
    "\n",
    "from ipywidgets import Output\n",
    "out = Output()\n",
    "with out:\n",
    "    result = func(*args, **kwargs)\n",
    "return_val = train(pipe)\n",
    "return_val"
   ]
  },
  {
   "cell_type": "code",
   "execution_count": null,
   "metadata": {},
   "outputs": [],
   "source": []
  },
  {
   "cell_type": "code",
   "execution_count": 38,
   "metadata": {},
   "outputs": [
    {
     "data": {
      "text/plain": [
       "({'output_type': 'display_data',\n",
       "  'data': {'text/plain': '<Figure size 864x360 with 1 Axes>',\n",
       "   'image/png': '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\\n'},\n",
       "  'metadata': {'needs_background': 'light'}},\n",
       " {'name': 'stdout',\n",
       "  'text': 'accuracy: 0.8428957931928901\\nstd accuracy: 0.023890504020274053\\n',\n",
       "  'output_type': 'stream'})"
      ]
     },
     "execution_count": 38,
     "metadata": {},
     "output_type": "execute_result"
    }
   ],
   "source": [
    "out.outputs"
   ]
  },
  {
   "cell_type": "code",
   "execution_count": null,
   "metadata": {},
   "outputs": [],
   "source": [
    "# Working"
   ]
  },
  {
   "cell_type": "code",
   "execution_count": 32,
   "metadata": {},
   "outputs": [
    {
     "ename": "AttributeError",
     "evalue": "'Output' object has no attribute 'stdout'",
     "output_type": "error",
     "traceback": [
      "\u001b[0;31m---------------------------------------------------------------------------\u001b[0m",
      "\u001b[0;31mAttributeError\u001b[0m                            Traceback (most recent call last)",
      "\u001b[0;32m<ipython-input-32-013ae0f862d3>\u001b[0m in \u001b[0;36m<module>\u001b[0;34m\u001b[0m\n\u001b[1;32m      6\u001b[0m ])\n\u001b[1;32m      7\u001b[0m \u001b[0;34m\u001b[0m\u001b[0m\n\u001b[0;32m----> 8\u001b[0;31m \u001b[0mreturn_val\u001b[0m \u001b[0;34m=\u001b[0m \u001b[0mtrain\u001b[0m\u001b[0;34m(\u001b[0m\u001b[0mpipe\u001b[0m\u001b[0;34m)\u001b[0m\u001b[0;34m\u001b[0m\u001b[0;34m\u001b[0m\u001b[0m\n\u001b[0m",
      "\u001b[0;32m~/dev/ds/helpers/mlflow.py\u001b[0m in \u001b[0;36mwrapper\u001b[0;34m(*args, **kwargs)\u001b[0m\n\u001b[1;32m    284\u001b[0m             \u001b[0mresult\u001b[0m \u001b[0;34m=\u001b[0m \u001b[0mfunc\u001b[0m\u001b[0;34m(\u001b[0m\u001b[0;34m*\u001b[0m\u001b[0margs\u001b[0m\u001b[0;34m,\u001b[0m \u001b[0;34m**\u001b[0m\u001b[0mkwargs\u001b[0m\u001b[0;34m)\u001b[0m\u001b[0;34m\u001b[0m\u001b[0;34m\u001b[0m\u001b[0m\n\u001b[1;32m    285\u001b[0m \u001b[0;34m\u001b[0m\u001b[0m\n\u001b[0;32m--> 286\u001b[0;31m         \u001b[0ml\u001b[0m \u001b[0;34m=\u001b[0m \u001b[0mLogger\u001b[0m\u001b[0;34m(\u001b[0m\u001b[0mout\u001b[0m\u001b[0;34m,\u001b[0m \u001b[0mresult\u001b[0m\u001b[0;34m)\u001b[0m\u001b[0;34m\u001b[0m\u001b[0;34m\u001b[0m\u001b[0m\n\u001b[0m\u001b[1;32m    287\u001b[0m         \u001b[0mprint\u001b[0m\u001b[0;34m(\u001b[0m\u001b[0ml\u001b[0m\u001b[0;34m)\u001b[0m\u001b[0;34m\u001b[0m\u001b[0;34m\u001b[0m\u001b[0m\n\u001b[1;32m    288\u001b[0m         \u001b[0;31m# with Capturing() as output:\u001b[0m\u001b[0;34m\u001b[0m\u001b[0;34m\u001b[0m\u001b[0;34m\u001b[0m\u001b[0m\n",
      "\u001b[0;32m~/dev/ds/helpers/mlflow.py\u001b[0m in \u001b[0;36m__init__\u001b[0;34m(self, cell, returnval, tags)\u001b[0m\n\u001b[1;32m    161\u001b[0m             \u001b[0mself\u001b[0m\u001b[0;34m.\u001b[0m\u001b[0mparse_returnval\u001b[0m\u001b[0;34m(\u001b[0m\u001b[0mreturnval\u001b[0m\u001b[0;34m)\u001b[0m\u001b[0;34m\u001b[0m\u001b[0;34m\u001b[0m\u001b[0m\n\u001b[1;32m    162\u001b[0m         \u001b[0;32mif\u001b[0m \u001b[0mcell\u001b[0m \u001b[0;32mis\u001b[0m \u001b[0;32mnot\u001b[0m \u001b[0;32mNone\u001b[0m\u001b[0;34m:\u001b[0m\u001b[0;34m\u001b[0m\u001b[0;34m\u001b[0m\u001b[0m\n\u001b[0;32m--> 163\u001b[0;31m             \u001b[0mself\u001b[0m\u001b[0;34m.\u001b[0m\u001b[0mparse_cell\u001b[0m\u001b[0;34m(\u001b[0m\u001b[0mcell\u001b[0m\u001b[0;34m)\u001b[0m\u001b[0;34m\u001b[0m\u001b[0;34m\u001b[0m\u001b[0m\n\u001b[0m\u001b[1;32m    164\u001b[0m \u001b[0;34m\u001b[0m\u001b[0m\n\u001b[1;32m    165\u001b[0m     \u001b[0;32mdef\u001b[0m \u001b[0mhandle_text\u001b[0m\u001b[0;34m(\u001b[0m\u001b[0mself\u001b[0m\u001b[0;34m,\u001b[0m \u001b[0ms\u001b[0m\u001b[0;34m)\u001b[0m\u001b[0;34m:\u001b[0m\u001b[0;34m\u001b[0m\u001b[0;34m\u001b[0m\u001b[0m\n",
      "\u001b[0;32m~/dev/ds/helpers/mlflow.py\u001b[0m in \u001b[0;36mparse_cell\u001b[0;34m(self, cell)\u001b[0m\n\u001b[1;32m    181\u001b[0m                 \u001b[0mself\u001b[0m\u001b[0;34m.\u001b[0m\u001b[0mhandle_text\u001b[0m\u001b[0;34m(\u001b[0m\u001b[0mo\u001b[0m\u001b[0;34m.\u001b[0m\u001b[0mdata\u001b[0m\u001b[0;34m[\u001b[0m\u001b[0;34m\"text/plain\"\u001b[0m\u001b[0;34m]\u001b[0m\u001b[0;34m)\u001b[0m\u001b[0;34m\u001b[0m\u001b[0;34m\u001b[0m\u001b[0m\n\u001b[1;32m    182\u001b[0m \u001b[0;34m\u001b[0m\u001b[0m\n\u001b[0;32m--> 183\u001b[0;31m         \u001b[0;32mfor\u001b[0m \u001b[0moutput\u001b[0m \u001b[0;32min\u001b[0m \u001b[0mcell\u001b[0m\u001b[0;34m.\u001b[0m\u001b[0mstdout\u001b[0m\u001b[0;34m.\u001b[0m\u001b[0msplit\u001b[0m\u001b[0;34m(\u001b[0m\u001b[0;34m\"\\n\"\u001b[0m\u001b[0;34m)\u001b[0m\u001b[0;34m:\u001b[0m\u001b[0;34m\u001b[0m\u001b[0;34m\u001b[0m\u001b[0m\n\u001b[0m\u001b[1;32m    184\u001b[0m             \u001b[0mself\u001b[0m\u001b[0;34m.\u001b[0m\u001b[0mhandle_text\u001b[0m\u001b[0;34m(\u001b[0m\u001b[0moutput\u001b[0m\u001b[0;34m)\u001b[0m\u001b[0;34m\u001b[0m\u001b[0;34m\u001b[0m\u001b[0m\n\u001b[1;32m    185\u001b[0m \u001b[0;34m\u001b[0m\u001b[0m\n",
      "\u001b[0;31mAttributeError\u001b[0m: 'Output' object has no attribute 'stdout'"
     ]
    }
   ],
   "source": [
    "%%capture inline_display\n",
    "gb_params = {'n_estimators': 96,'min_samples_leaf': 2,'max_depth': 3,'learning_rate': 0.25}\n",
    "model = GradientBoostingClassifier(**gb_params)\n",
    "pipe = Pipeline(steps=[\n",
    "    (\"prepare\",ModelPreperation()), \n",
    "    (\"clr\",model)\n",
    "])\n",
    "\n",
    "return_val = train(pipe)"
   ]
  },
  {
   "cell_type": "code",
   "execution_count": 25,
   "metadata": {},
   "outputs": [],
   "source": [
    "from helpers import Logger\n",
    "l = Logger(cell=inline_display, returnval=return_val)"
   ]
  },
  {
   "cell_type": "code",
   "execution_count": 26,
   "metadata": {},
   "outputs": [
    {
     "name": "stdout",
     "output_type": "stream",
     "text": [
      "metrics:\n",
      "accuracy            : eq.\n",
      "std_accuracy        : eq.\n",
      "\n",
      "params:\n"
     ]
    }
   ],
   "source": [
    "l.compare(mlflow.last_run())"
   ]
  },
  {
   "cell_type": "code",
   "execution_count": 27,
   "metadata": {},
   "outputs": [
    {
     "ename": "AttributeError",
     "evalue": "'NoneType' object has no attribute 'items'",
     "output_type": "error",
     "traceback": [
      "\u001b[0;31m---------------------------------------------------------------------------\u001b[0m",
      "\u001b[0;31mAttributeError\u001b[0m                            Traceback (most recent call last)",
      "\u001b[0;32m<ipython-input-27-335f004c3eb9>\u001b[0m in \u001b[0;36m<module>\u001b[0;34m\u001b[0m\n\u001b[0;32m----> 1\u001b[0;31m \u001b[0ml\u001b[0m\u001b[0;34m.\u001b[0m\u001b[0mlog_mlflow\u001b[0m\u001b[0;34m(\u001b[0m\u001b[0;34m)\u001b[0m\u001b[0;34m\u001b[0m\u001b[0;34m\u001b[0m\u001b[0m\n\u001b[0m",
      "\u001b[0;32m~/dev/ds/helpers/mlflow.py\u001b[0m in \u001b[0;36mlog_mlflow\u001b[0;34m(self, tags)\u001b[0m\n\u001b[1;32m    208\u001b[0m                 \u001b[0mmlflow\u001b[0m\u001b[0;34m.\u001b[0m\u001b[0mlog_metric\u001b[0m\u001b[0;34m(\u001b[0m\u001b[0mk\u001b[0m\u001b[0;34m,\u001b[0m \u001b[0mfloat\u001b[0m\u001b[0;34m(\u001b[0m\u001b[0mv\u001b[0m\u001b[0;34m)\u001b[0m\u001b[0;34m)\u001b[0m\u001b[0;34m\u001b[0m\u001b[0;34m\u001b[0m\u001b[0m\n\u001b[1;32m    209\u001b[0m             \u001b[0mtags\u001b[0m \u001b[0;34m=\u001b[0m \u001b[0mself\u001b[0m\u001b[0;34m.\u001b[0m\u001b[0mparams\u001b[0m\u001b[0;34m.\u001b[0m\u001b[0mcopy\u001b[0m\u001b[0;34m(\u001b[0m\u001b[0;34m)\u001b[0m\u001b[0;34m.\u001b[0m\u001b[0mupdate\u001b[0m\u001b[0;34m(\u001b[0m\u001b[0mtags\u001b[0m\u001b[0;34m)\u001b[0m\u001b[0;34m\u001b[0m\u001b[0;34m\u001b[0m\u001b[0m\n\u001b[0;32m--> 210\u001b[0;31m             \u001b[0;32mfor\u001b[0m \u001b[0mk\u001b[0m\u001b[0;34m,\u001b[0m\u001b[0mv\u001b[0m \u001b[0;32min\u001b[0m \u001b[0mtags\u001b[0m\u001b[0;34m.\u001b[0m\u001b[0mitems\u001b[0m\u001b[0;34m(\u001b[0m\u001b[0;34m)\u001b[0m\u001b[0;34m:\u001b[0m\u001b[0;34m\u001b[0m\u001b[0;34m\u001b[0m\u001b[0m\n\u001b[0m\u001b[1;32m    211\u001b[0m                 \u001b[0mmlflow\u001b[0m\u001b[0;34m.\u001b[0m\u001b[0mset_tag\u001b[0m\u001b[0;34m(\u001b[0m\u001b[0mk\u001b[0m\u001b[0;34m,\u001b[0m \u001b[0mv\u001b[0m\u001b[0;34m)\u001b[0m\u001b[0;34m\u001b[0m\u001b[0;34m\u001b[0m\u001b[0m\n\u001b[1;32m    212\u001b[0m \u001b[0;34m\u001b[0m\u001b[0m\n",
      "\u001b[0;31mAttributeError\u001b[0m: 'NoneType' object has no attribute 'items'"
     ]
    }
   ],
   "source": [
    "l.log_mlflow()"
   ]
  },
  {
   "cell_type": "code",
   "execution_count": null,
   "metadata": {},
   "outputs": [],
   "source": [
    "mlflow.best_runs()"
   ]
  },
  {
   "cell_type": "code",
   "execution_count": null,
   "metadata": {},
   "outputs": [],
   "source": [
    "type(best[\"params\"][])"
   ]
  },
  {
   "cell_type": "code",
   "execution_count": null,
   "metadata": {},
   "outputs": [],
   "source": [
    "float(\"ab2\")"
   ]
  },
  {
   "cell_type": "code",
   "execution_count": null,
   "metadata": {},
   "outputs": [],
   "source": []
  },
  {
   "cell_type": "code",
   "execution_count": null,
   "metadata": {},
   "outputs": [],
   "source": [
    "from helpers import compare_dicts\n",
    "compare_dicts(l.asdict(), h.last_run().data.to_dictionary())"
   ]
  },
  {
   "cell_type": "code",
   "execution_count": null,
   "metadata": {},
   "outputs": [],
   "source": []
  },
  {
   "cell_type": "code",
   "execution_count": null,
   "metadata": {},
   "outputs": [],
   "source": [
    "from sklearn.naive_bayes import GaussianNB\n",
    "from yellowbrick.datasets import load_occupancy\n",
    "from yellowbrick.classifier import precision_recall_curve\n",
    "\n",
    "\n",
    "X, y = load_occupancy()\n",
    "visualizer = precision_recall_curve(GaussianNB(), X, y)"
   ]
  },
  {
   "cell_type": "code",
   "execution_count": null,
   "metadata": {},
   "outputs": [],
   "source": []
  },
  {
   "cell_type": "code",
   "execution_count": null,
   "metadata": {},
   "outputs": [],
   "source": [
    "_40"
   ]
  },
  {
   "cell_type": "code",
   "execution_count": null,
   "metadata": {},
   "outputs": [],
   "source": []
  },
  {
   "cell_type": "code",
   "execution_count": null,
   "metadata": {},
   "outputs": [],
   "source": [
    "%%capture captured\n"
   ]
  },
  {
   "cell_type": "code",
   "execution_count": null,
   "metadata": {
    "slideshow": {
     "slide_type": "subslide"
    }
   },
   "outputs": [],
   "source": [
    "a,b = "
   ]
  },
  {
   "cell_type": "code",
   "execution_count": null,
   "metadata": {
    "slideshow": {
     "slide_type": "subslide"
    }
   },
   "outputs": [],
   "source": [
    "fig, axes = plt.subplots(3, 1, figsize=(10, 15))\n",
    "\n",
    "cv = StratifiedKFold(n_splits=5, random_state=42)\n",
    "\n",
    "classifier = DecisionTreeClassifier(max_depth=3)\n",
    "classifier.fit()\n",
    "plot_learning_curve(classifier, \"Decision Tree\", X, y, axes=axes[:], cv=cv, n_jobs=4)\n",
    "\n",
    "predictions = classifier.predict(X_test)\n",
    "diff = pd.Series(get_scores(y_test, predictions))-baseline\n",
    "print(diff)\n",
    "\n",
    "print(classification_report(y_test, predictions, target_names=[\"Survived\", \"Drown\"]))\n",
    "plt.show()"
   ]
  },
  {
   "cell_type": "markdown",
   "metadata": {},
   "source": [
    "## Hyper-Parameter"
   ]
  },
  {
   "cell_type": "code",
   "execution_count": null,
   "metadata": {
    "slideshow": {
     "slide_type": "subslide"
    }
   },
   "outputs": [],
   "source": [
    "cv = StratifiedKFold(n_splits=5, random_state=42, shuffle=True)\n",
    "\n",
    "X_train = train.drop(columns=\"Survived\")\n",
    "y_train = np.ravel(train[['Survived']])\n",
    "\n",
    "gb = GradientBoostingClassifier()\n",
    "gb_random = RandomizedSearchCV(estimator = gb, param_distributions = gb_hpt_params, \\\n",
    "                               n_iter = 100, scoring=\"f1\", cv = 5, verbose=2, random_state=42, n_jobs = -1)\n",
    "gb_random.fit(X_train, y_train)"
   ]
  },
  {
   "cell_type": "code",
   "execution_count": null,
   "metadata": {},
   "outputs": [],
   "source": [
    "gb_random.best_params_"
   ]
  },
  {
   "cell_type": "code",
   "execution_count": null,
   "metadata": {
    "slideshow": {
     "slide_type": "subslide"
    }
   },
   "outputs": [],
   "source": [
    "fig, axes = plt.subplots(3, 1, figsize=(10, 15))\n",
    "\n",
    "classifier = GradientBoostingClassifier(**gb_random.best_params_)\n",
    "classifier.fit(X_train, y_train)\n",
    "plot_learning_curve(classifier, \"Decision Tree\", X, y, axes=axes[:], cv=cv, n_jobs=4)\n",
    "\n",
    "predictions = classifier.predict(X_test)\n",
    "diff = pd.Series(get_scores(y_test, predictions))-baseline\n",
    "print(diff)\n",
    "\n",
    "print(classification_report(y_test, predictions, target_names=[\"Survived\", \"Drown\"]))\n",
    "plt.show()"
   ]
  },
  {
   "cell_type": "code",
   "execution_count": null,
   "metadata": {},
   "outputs": [],
   "source": [
    "bt_predictions = predictions.copy()\n",
    "bt_baseline = pd.Series(get_scores(y_test, predictions))\n",
    "bt_classifier = classifier"
   ]
  },
  {
   "cell_type": "code",
   "execution_count": null,
   "metadata": {},
   "outputs": [],
   "source": [
    "gb_random.best_params_"
   ]
  },
  {
   "cell_type": "code",
   "execution_count": null,
   "metadata": {},
   "outputs": [],
   "source": [
    "classifiers = [DecisionTreeClassifier(max_depth=3),GradientBoostingClassifier(**gb_random.best_params_)]\n",
    "\n",
    "gb_params = {'n_estimators': 200,'min_samples_split': 16,'min_samples_leaf': 16,'max_features': 5,'max_depth': 3,'learning_rate': 0.25}\n",
    "classifiers.append(GradientBoostingClassifier(**gb_params))\n",
    "\n",
    "algorithm_names = [\"DT\", \"GB_hpt\", \"GB_custom\"]\n",
    "cv_means = []\n",
    "cv_std = []\n",
    "for classifier in classifiers:\n",
    "    classifier.random_state=42\n",
    "    cv_result = cross_val_score(classifier, X_train, y = y_train, scoring = \"f1\", cv = cv, n_jobs=-1)\n",
    "    cv_means.append(cv_result.mean())\n",
    "    cv_std.append(cv_result.std())\n",
    "    \n",
    "cv_res = pd.DataFrame({\"mean\":cv_means,\"std\": cv_std,\"Algorithm\":algorithm_names})\n",
    "\n",
    "figsize(15,5)\n",
    "g = sns.barplot(\"mean\",\"Algorithm\",data = cv_res, xerr=cv_std)\n",
    "g.set_xlabel(\"Mean Accuracy\")\n",
    "g = g.set_title(\"Cross validation scores\")\n",
    "\n",
    "fig, axes = plt.subplots(3, len(classifiers), figsize=(20, 20))\n",
    "\n",
    "for i, estimator in enumerate(classifiers):\n",
    "    title = f\"{estimator.__class__.__name__}\"\n",
    "    plot_learning_curve(estimator, title, X, y, axes=axes[:, i],\n",
    "                        cv=cv, n_jobs=4)\n",
    "\n",
    "plt.show()"
   ]
  },
  {
   "cell_type": "code",
   "execution_count": null,
   "metadata": {},
   "outputs": [],
   "source": [
    "\n",
    "from sklearn.model_selection import StratifiedKFold"
   ]
  },
  {
   "cell_type": "markdown",
   "metadata": {},
   "source": [
    "# Ludwig"
   ]
  },
  {
   "cell_type": "code",
   "execution_count": null,
   "metadata": {},
   "outputs": [],
   "source": [
    "prepare = ModelPreperation()\n",
    "train_df = prepare.fit_transform(train_l.get_data())"
   ]
  },
  {
   "cell_type": "code",
   "execution_count": null,
   "metadata": {},
   "outputs": [],
   "source": [
    "train_df.isnull().sum()"
   ]
  },
  {
   "cell_type": "code",
   "execution_count": null,
   "metadata": {},
   "outputs": [],
   "source": [
    "%%writefile model_definition.yaml\n",
    "input_features:\n",
    "    -\n",
    "        name: Pclass\n",
    "        type: category\n",
    "    -\n",
    "        name: Sex\n",
    "        type: category\n",
    "    -\n",
    "        name: Age\n",
    "        type: numerical\n",
    "    -\n",
    "        name: SibSp\n",
    "        type: numerical\n",
    "    -\n",
    "        name: Parch\n",
    "        type: numerical\n",
    "    -\n",
    "        name: Fare\n",
    "        type: numerical\n",
    "    -\n",
    "        name: Embarked\n",
    "        type: category\n",
    "\n",
    "output_features:\n",
    "    -\n",
    "        name: Survived\n",
    "        type: binary"
   ]
  },
  {
   "cell_type": "code",
   "execution_count": null,
   "metadata": {},
   "outputs": [],
   "source": [
    "import yaml\n",
    "\n",
    "with open(r'model_definition.yaml') as file:\n",
    "     model_definition = yaml.load(file, Loader=yaml.FullLoader)"
   ]
  },
  {
   "cell_type": "code",
   "execution_count": null,
   "metadata": {},
   "outputs": [],
   "source": [
    "model_definition"
   ]
  },
  {
   "cell_type": "code",
   "execution_count": null,
   "metadata": {},
   "outputs": [],
   "source": [
    "train_df"
   ]
  },
  {
   "cell_type": "code",
   "execution_count": null,
   "metadata": {},
   "outputs": [],
   "source": [
    "train, test = train_test_split(pd.read_csv(\"data/titanic/train.csv\"))"
   ]
  },
  {
   "cell_type": "code",
   "execution_count": null,
   "metadata": {},
   "outputs": [],
   "source": [
    "train_l.load_data()"
   ]
  },
  {
   "cell_type": "code",
   "execution_count": null,
   "metadata": {},
   "outputs": [],
   "source": [
    "train"
   ]
  },
  {
   "cell_type": "code",
   "execution_count": null,
   "metadata": {},
   "outputs": [],
   "source": [
    "from ludwig.api import LudwigModel\n",
    "ludwig_model = LudwigModel(model_definition)\n",
    "train_stats = ludwig_model.train(data_df=train)"
   ]
  },
  {
   "cell_type": "code",
   "execution_count": null,
   "metadata": {},
   "outputs": [],
   "source": [
    "predictions, test_stats = ludwig_model.test(data_df=test)"
   ]
  },
  {
   "cell_type": "code",
   "execution_count": null,
   "metadata": {},
   "outputs": [],
   "source": [
    "ludwig_model"
   ]
  },
  {
   "cell_type": "code",
   "execution_count": null,
   "metadata": {},
   "outputs": [],
   "source": [
    "test_stats[\"Survived\"].keys()"
   ]
  },
  {
   "cell_type": "code",
   "execution_count": null,
   "metadata": {},
   "outputs": [],
   "source": [
    "test_stats[\"Survived\"][\"confusion_matrix\"]"
   ]
  },
  {
   "cell_type": "code",
   "execution_count": null,
   "metadata": {},
   "outputs": [],
   "source": [
    "test_stats[\"combined\"]"
   ]
  },
  {
   "cell_type": "code",
   "execution_count": null,
   "metadata": {},
   "outputs": [],
   "source": [
    "%matplotlib inline\n",
    "from ludwig.visualize import compare_performance\n",
    "compare_performance(train_stats,\"Survived\")"
   ]
  },
  {
   "cell_type": "code",
   "execution_count": null,
   "metadata": {},
   "outputs": [],
   "source": [
    "%matplotlib inline\n",
    "from ludwig.visualize import learning_curves\n",
    "learning_curves(\n",
    "  train_stats, \"Survived\"\n",
    ")"
   ]
  },
  {
   "cell_type": "code",
   "execution_count": null,
   "metadata": {},
   "outputs": [],
   "source": [
    "ludwig_model.predict(pd.read_csv(\"data/titanic/test.csv\"))"
   ]
  },
  {
   "cell_type": "code",
   "execution_count": null,
   "metadata": {},
   "outputs": [],
   "source": [
    "ludwig_model.model.accuracy_Survived"
   ]
  },
  {
   "cell_type": "code",
   "execution_count": null,
   "metadata": {},
   "outputs": [],
   "source": [
    "type(test_stats)"
   ]
  },
  {
   "cell_type": "markdown",
   "metadata": {},
   "source": [
    "# Kaggle Submission"
   ]
  },
  {
   "cell_type": "code",
   "execution_count": null,
   "metadata": {},
   "outputs": [],
   "source": [
    "make_kaggle_submission(get_pipeline(), submission_name=\"simpler hyper-params\")"
   ]
  },
  {
   "cell_type": "code",
   "execution_count": null,
   "metadata": {},
   "outputs": [],
   "source": [
    "calc_cross_val_scores(get_pipeline())"
   ]
  },
  {
   "cell_type": "code",
   "execution_count": null,
   "metadata": {},
   "outputs": [],
   "source": [
    "get_scores()"
   ]
  },
  {
   "cell_type": "code",
   "execution_count": null,
   "metadata": {},
   "outputs": [],
   "source": [
    "kapi.competition_submissions(\"titanic\")"
   ]
  },
  {
   "cell_type": "code",
   "execution_count": null,
   "metadata": {},
   "outputs": [],
   "source": [
    "filename = 'submissions/2020-02-22 15:30:50.844082.csv'\n",
    "with open(filename) as blob:\n",
    "    thread = kapi.competitions_submissions_submit(filename, \"first submission\", \"titanic\", async_req=True)\n",
    "    result = thread.get()"
   ]
  },
  {
   "cell_type": "code",
   "execution_count": null,
   "metadata": {},
   "outputs": [],
   "source": []
  },
  {
   "cell_type": "markdown",
   "metadata": {
    "toc-hr-collapsed": true,
    "toc-nb-collapsed": true
   },
   "source": [
    "# Basic Data Preparation"
   ]
  },
  {
   "cell_type": "code",
   "execution_count": null,
   "metadata": {
    "slideshow": {
     "slide_type": "subslide"
    }
   },
   "outputs": [],
   "source": [
    "train_with_nas = train.copy()\n",
    "test_with_nas = test.copy()"
   ]
  },
  {
   "cell_type": "markdown",
   "metadata": {
    "slideshow": {
     "slide_type": "subslide"
    }
   },
   "source": [
    "## Missing Values\n",
    "\n",
    "Missing Values, also unbekannte Werte stellen für viele Machine Learning Algorithmen ein Problem dar (wenn auch nicht für alle), da sie im wesentlichen mit nummerischen Werten arbeiten. Grundsätzlich ist es daher eine gute Idee fehlende Werte zu ersetzen. Hierfür gibt es zahlreiche Möglichkeiten, wie etwa:\n",
    "\n",
    "* Das ersetzen mit einem fest definiertem Wert\n",
    "    * Für numerische Werte nutzt man den Durchschnittswert (average) oder den Mittelwert (median).\n",
    "    * Für kategorische Werte empfiehlt sich die häufigsten Klasse\n",
    "    \n",
    "* Das ersetzen mit einem repräsentativen Wert\n",
    "    * Equivalent zu oben, allerdings wird der Wert innerhalb einer repräsentativen Subgruppe gebildet\n",
    "    * Automatische Bildung mehrer Cluster (etwa via kNN)\n",
    "    \n",
    "* Das ersetzen mit einem algorithmisch bestimmten Werts\n",
    "    * Regressions- und Klassifikationsmodelle\n",
    "    * Deep Learning"
   ]
  },
  {
   "cell_type": "code",
   "execution_count": null,
   "metadata": {
    "slideshow": {
     "slide_type": "subslide"
    }
   },
   "outputs": [],
   "source": [
    "df = train.append(test)\n",
    "df.isnull().sum().sort_values(ascending=False)"
   ]
  },
  {
   "cell_type": "code",
   "execution_count": null,
   "metadata": {
    "slideshow": {
     "slide_type": "subslide"
    }
   },
   "outputs": [],
   "source": [
    "default_age = train.Age.median()\n",
    "\n",
    "for df in [train, test]:\n",
    "    df.Age.fillna(default_age, inplace=True)"
   ]
  },
  {
   "cell_type": "code",
   "execution_count": null,
   "metadata": {
    "slideshow": {
     "slide_type": "subslide"
    }
   },
   "outputs": [],
   "source": [
    "default_price = train.Fare.mean()\n",
    "\n",
    "for df in [train, test]:\n",
    "    df.Fare.fillna(default_price, inplace=True)"
   ]
  },
  {
   "cell_type": "code",
   "execution_count": null,
   "metadata": {
    "slideshow": {
     "slide_type": "subslide"
    }
   },
   "outputs": [],
   "source": [
    "default_harbor = train.Embarked.mode()[0]\n",
    "\n",
    "for df in [train, test]:\n",
    "    df.Embarked.fillna(default_harbor, inplace=True)"
   ]
  },
  {
   "cell_type": "code",
   "execution_count": null,
   "metadata": {
    "slideshow": {
     "slide_type": "subslide"
    }
   },
   "outputs": [],
   "source": [
    "df = train.append(test)\n",
    "df.isnull().sum().sort_values(ascending=False)"
   ]
  },
  {
   "cell_type": "markdown",
   "metadata": {
    "slideshow": {
     "slide_type": "subslide"
    }
   },
   "source": [
    "**Alternative** Scikit-Learn Missing Value Imputer"
   ]
  },
  {
   "cell_type": "code",
   "execution_count": null,
   "metadata": {
    "slideshow": {
     "slide_type": "subslide"
    }
   },
   "outputs": [],
   "source": [
    "train.Embarked.values.reshape(-1, 1)[:5]"
   ]
  },
  {
   "cell_type": "code",
   "execution_count": null,
   "metadata": {
    "slideshow": {
     "slide_type": "subslide"
    }
   },
   "outputs": [],
   "source": [
    "from sklearn.impute import SimpleImputer\n",
    "\n",
    "embarked_imp = SimpleImputer(missing_values=np.nan, strategy='most_frequent')\n",
    "embarked_imp.fit_transform(train.Embarked.values.reshape(-1, 1))\n",
    "without_nas = embarked_imp.transform(test.Embarked.values.reshape(-1, 1))\n",
    "\n",
    "# Check if there are still NAs?\n",
    "pd.Series(np.ravel(without_nas)).isna().sum()"
   ]
  },
  {
   "cell_type": "markdown",
   "metadata": {
    "slideshow": {
     "slide_type": "subslide"
    }
   },
   "source": [
    "## Feature Transformation"
   ]
  },
  {
   "cell_type": "markdown",
   "metadata": {
    "slideshow": {
     "slide_type": "subslide"
    }
   },
   "source": [
    "Nicht nur Missing Values sind problematisch für Algorithmen, sondern auch andere nicht nummerische Werte. Zwar wandeln zahlreiche Verfahren etwa Boolean-Werte automatisch in eine 1/0 Darstellung um, dennoch empfiehlt es sich auch hier Zeichenketten (strings) und kategoriale Werte entsprechend umzuwandeln. Gängige Verfahren sind:\n",
    "\n",
    "* Binarize: Darstellung in Binärzahlen (1 und 0 für True und False)\n",
    "* [One Hot Encoding](http://queirozf.com/entries/one-hot-encoding-a-feature-on-a-pandas-dataframe-an-example)\n",
    "* Dummy Encoding"
   ]
  },
  {
   "cell_type": "code",
   "execution_count": null,
   "metadata": {
    "slideshow": {
     "slide_type": "subslide"
    }
   },
   "outputs": [],
   "source": [
    "from sklearn.preprocessing import label_binarize\n",
    "for df in [train, test]:\n",
    "    df['Sex'] = label_binarize(df.Sex, ['male', 'female'])"
   ]
  },
  {
   "cell_type": "code",
   "execution_count": null,
   "metadata": {
    "slideshow": {
     "slide_type": "subslide"
    }
   },
   "outputs": [],
   "source": [
    "from sklearn.preprocessing import LabelEncoder\n",
    "harbour_encocer = LabelEncoder()\n",
    "harbour_encocer.fit(train.Embarked)\n",
    "for df in [train, test]:\n",
    "    df[\"Embarked\"] = harbour_encocer.transform(df.Embarked)"
   ]
  },
  {
   "cell_type": "code",
   "execution_count": null,
   "metadata": {
    "slideshow": {
     "slide_type": "subslide"
    }
   },
   "outputs": [],
   "source": [
    "df.dtypes"
   ]
  },
  {
   "cell_type": "code",
   "execution_count": null,
   "metadata": {
    "slideshow": {
     "slide_type": "subslide"
    }
   },
   "outputs": [],
   "source": [
    "df.select_dtypes(exclude=[np.number])"
   ]
  },
  {
   "cell_type": "code",
   "execution_count": null,
   "metadata": {
    "slideshow": {
     "slide_type": "subslide"
    }
   },
   "outputs": [],
   "source": [
    "for df in [train, test]:\n",
    "    df.drop([\"Name\",\"Ticket\"], axis=1, inplace=True)"
   ]
  },
  {
   "cell_type": "markdown",
   "metadata": {
    "toc-hr-collapsed": true
   },
   "source": [
    "## einfaches Feature Engineering\n",
    "\n",
    "Nicht alle Informationen lasssen sich so standardisiert in maschinell verarbeitbare Daten überführen. Beim Feature Engineering geht es darum, neue spalten zu erstellen, die für die algorithmen zusätzliche, wertvolle Informationen berreitstellen."
   ]
  },
  {
   "cell_type": "markdown",
   "metadata": {
    "slideshow": {
     "slide_type": "subslide"
    }
   },
   "source": [
    "### Schiffskabine\n",
    "\n",
    "Einige Passagiere haben eine Kabinennummer, anhand derer sich eventuell auf die Position im Boot (Deck, Innen- oder Außenkabine, Rumpf- oder Heckbereich) schließen lassen könnte, jedoch ist dies nicht offensichtlich. Dennoch bietet aufgrund der vielen fehlenden Werte allein die Information, dass ein Passagier eine Kabine hatte (das war nicht selbstverständlich) eine wertvolle Information die wir nutzen wollen."
   ]
  },
  {
   "cell_type": "code",
   "execution_count": null,
   "metadata": {
    "slideshow": {
     "slide_type": "subslide"
    }
   },
   "outputs": [],
   "source": [
    "len(train.loc[train.Cabin.isna()]) / len(train.Cabin)"
   ]
  },
  {
   "cell_type": "code",
   "execution_count": null,
   "metadata": {
    "slideshow": {
     "slide_type": "subslide"
    }
   },
   "outputs": [],
   "source": [
    "for df in [train, test]:\n",
    "    df[\"has_cabin\"] = ~df.Cabin.isna()\n",
    "    \n",
    "for df in [train, test]:\n",
    "    df.drop(\"Cabin\", axis=1, inplace=True)"
   ]
  },
  {
   "cell_type": "markdown",
   "metadata": {
    "slideshow": {
     "slide_type": "subslide"
    }
   },
   "source": [
    "### Familiengröße\n",
    "\n",
    "Im Datensatz finden sich die zwei Spalten SibSp (=Siblings/Spouses, also Ehegatten oder Geschwister) und Parch (Eltern / Kinder). Diese etwas verwirrende Aufteilung lässt sich deutlich einfacher darstellen, in dem wir beide Werte einfach als Familiengröße zusammenfassen."
   ]
  },
  {
   "cell_type": "code",
   "execution_count": null,
   "metadata": {
    "slideshow": {
     "slide_type": "subslide"
    }
   },
   "outputs": [],
   "source": [
    "df.SibSp + df.Parch"
   ]
  },
  {
   "cell_type": "code",
   "execution_count": null,
   "metadata": {
    "slideshow": {
     "slide_type": "subslide"
    }
   },
   "outputs": [],
   "source": [
    "for df in [train, test]:\n",
    "    df[\"family_size\"] = df.SibSp + df.Parch"
   ]
  },
  {
   "cell_type": "markdown",
   "metadata": {
    "toc-hr-collapsed": true
   },
   "source": [
    "## Aufgaben\n",
    "\n",
    "* Überprüfe, wie das Feature Familiengröße im Verhältnis zur Überlebenswahrscheinlichkeit steht\n",
    "* Erstelle ein Feature, dass aussagt, ob eine Person alleine reist\n",
    "* Erstelle eine Funktion, welche alle fehlenden Werte in einem DataFrame bereinigt und mache konfigurierbar, ob das DataFrame selbst oder eine Kopie bereinigt werden soll"
   ]
  },
  {
   "cell_type": "markdown",
   "metadata": {},
   "source": [
    "### Analyse Familiengröße"
   ]
  },
  {
   "cell_type": "code",
   "execution_count": null,
   "metadata": {
    "slideshow": {
     "slide_type": "subslide"
    }
   },
   "outputs": [],
   "source": [
    "%matplotlib inline\n",
    "plt.rcParams['figure.figsize'] = [16, 6]\n",
    "\n",
    "train.family_size.value_counts().sort_index().plot(kind=\"bar\")"
   ]
  },
  {
   "cell_type": "code",
   "execution_count": null,
   "metadata": {
    "slideshow": {
     "slide_type": "subslide"
    }
   },
   "outputs": [],
   "source": [
    "train.groupby([\"family_size\",\"Survived\"]).size().unstack(\"Survived\").plot(kind=\"bar\")"
   ]
  },
  {
   "cell_type": "markdown",
   "metadata": {
    "slideshow": {
     "slide_type": "subslide"
    }
   },
   "source": [
    "### Alleinreinde-Feature\n",
    "\n",
    "Zwar könnte angenommen werden, dass Algorithmen anhand der Familiengröße auch Alleinreisende identifizieren können. Allerdings ist längst nicht gewährleistet, dass Algorithmen entsprechende (komplexe) Zusammenhänge aufgreifen. Generell sollten daher wichtige Informationen in möglichst einfach verarbeitbaren Informationen dargereicht werden."
   ]
  },
  {
   "cell_type": "code",
   "execution_count": null,
   "metadata": {
    "slideshow": {
     "slide_type": "subslide"
    }
   },
   "outputs": [],
   "source": [
    "(df.SibSp + df.Parch) == 0"
   ]
  },
  {
   "cell_type": "code",
   "execution_count": null,
   "metadata": {
    "slideshow": {
     "slide_type": "subslide"
    }
   },
   "outputs": [],
   "source": [
    "for df in [train, test]:\n",
    "    df[\"is_alone\"] = (df.SibSp + df.Parch) == 0\n"
   ]
  },
  {
   "cell_type": "code",
   "execution_count": null,
   "metadata": {},
   "outputs": [],
   "source": [
    "# Entfernen unnötiger Spalten"
   ]
  },
  {
   "cell_type": "code",
   "execution_count": null,
   "metadata": {},
   "outputs": [],
   "source": [
    "unused_columns = [\"PassengerId\", \"SibSp\", \"Parch\", \"Name\", \"Ticket\", \"Cabin\"]\n",
    "\n",
    "for df in [train, test]:\n",
    "    df.drop(columns=unused_columns, inplace=True, errors='ignore')"
   ]
  },
  {
   "cell_type": "markdown",
   "metadata": {
    "slideshow": {
     "slide_type": "subslide"
    }
   },
   "source": [
    "### Missing Value Funktion"
   ]
  },
  {
   "cell_type": "code",
   "execution_count": null,
   "metadata": {
    "slideshow": {
     "slide_type": "subslide"
    }
   },
   "outputs": [],
   "source": [
    "from sklearn.impute import SimpleImputer\n",
    "\n",
    "def fill_missing_values(df, copy=False):\n",
    "    if copy:\n",
    "        df = df.copy()\n",
    "        \n",
    "    fill_na_strategies = {\n",
    "        \"Age\": \"median\",\n",
    "        \"Fare\": \"mean\",\n",
    "        \"Embarked\": \"most_frequent\"\n",
    "    }\n",
    "    \n",
    "    for col, strategy in fill_na_strategies.items():\n",
    "        print(f\"Fill {df[col].isna().sum()} in {col} by {strategy}\")\n",
    "        imp = SimpleImputer(missing_values=np.nan, strategy=strategy)\n",
    "        df[col] = imp.fit_transform(df[col].values.reshape(-1, 1))\n",
    "    return df\n",
    "\n",
    "fill_missing_values(train_with_nas, copy=True)"
   ]
  },
  {
   "cell_type": "markdown",
   "metadata": {},
   "source": [
    "Entferne nicht benötite Spalten"
   ]
  },
  {
   "cell_type": "markdown",
   "metadata": {
    "toc-hr-collapsed": true,
    "toc-nb-collapsed": true
   },
   "source": [
    "# Machine Learning (Modeling 1)"
   ]
  },
  {
   "cell_type": "markdown",
   "metadata": {},
   "source": [
    "Überprüfe erneut, ob nur nummerische und boolean Werte vorkommen und fehlenden Werte mehr existieren (mit ausnahme von Survived im testset)"
   ]
  },
  {
   "cell_type": "code",
   "execution_count": null,
   "metadata": {
    "slideshow": {
     "slide_type": "subslide"
    }
   },
   "outputs": [],
   "source": [
    "# Check the again the data\n",
    "# There should be only bool and numeric columns and no NAs beside from Survived (which of course is unkown in the testset)\n",
    "df = train.append(test)\n",
    "pd.DataFrame(zip(df.columns, df.dtypes, df.isna().sum()), columns=[\"column\", \"type\", \"NAs\"])"
   ]
  },
  {
   "cell_type": "code",
   "execution_count": null,
   "metadata": {
    "slideshow": {
     "slide_type": "subslide"
    }
   },
   "outputs": [],
   "source": [
    "X = train.drop(columns=\"Survived\")\n",
    "y = np.ravel(train[['Survived']])"
   ]
  },
  {
   "cell_type": "code",
   "execution_count": null,
   "metadata": {
    "slideshow": {
     "slide_type": "subslide"
    }
   },
   "outputs": [],
   "source": [
    "from sklearn.model_selection import train_test_split\n",
    "\n",
    "X_train, X_test, y_train, y_test = train_test_split(X, y, test_size=0.25, random_state=42)"
   ]
  },
  {
   "cell_type": "code",
   "execution_count": null,
   "metadata": {
    "slideshow": {
     "slide_type": "subslide"
    }
   },
   "outputs": [],
   "source": [
    "print(X_train.shape)\n",
    "print(X_test.shape)"
   ]
  },
  {
   "cell_type": "markdown",
   "metadata": {
    "toc-hr-collapsed": true
   },
   "source": [
    "## Entscheidungsbaum"
   ]
  },
  {
   "cell_type": "code",
   "execution_count": null,
   "metadata": {
    "slideshow": {
     "slide_type": "subslide"
    }
   },
   "outputs": [],
   "source": [
    "from sklearn.tree import DecisionTreeClassifier\n",
    "\n",
    "classifier = DecisionTreeClassifier()\n",
    "classifier.fit(X_train, y_train)"
   ]
  },
  {
   "cell_type": "code",
   "execution_count": null,
   "metadata": {
    "slideshow": {
     "slide_type": "subslide"
    }
   },
   "outputs": [],
   "source": [
    "from sklearn.tree._export import plot_tree\n",
    "figsize(20, 8)\n",
    "fig = plot_tree(classifier, label='root', feature_names = X.columns, impurity=True, filled=True) "
   ]
  },
  {
   "cell_type": "code",
   "execution_count": null,
   "metadata": {
    "slideshow": {
     "slide_type": "subslide"
    }
   },
   "outputs": [],
   "source": [
    "classifier = DecisionTreeClassifier(max_depth=3)\n",
    "classifier.fit(X_train, y_train)\n",
    "\n",
    "figsize(20, 8)\n",
    "fig = plot_tree(classifier, label='root', feature_names = X.columns, impurity=True, filled=True) "
   ]
  },
  {
   "cell_type": "markdown",
   "metadata": {
    "slideshow": {
     "slide_type": "subslide"
    },
    "toc-hr-collapsed": true
   },
   "source": [
    "## Modell-Bewertung"
   ]
  },
  {
   "cell_type": "code",
   "execution_count": null,
   "metadata": {
    "slideshow": {
     "slide_type": "subslide"
    }
   },
   "outputs": [],
   "source": [
    "predictions = classifier.predict(X_test)"
   ]
  },
  {
   "cell_type": "code",
   "execution_count": null,
   "metadata": {},
   "outputs": [],
   "source": [
    "pd.DataFrame(zip(predictions, y_test), columns=[\"predicted\", \"actual\"]).sample(5, random_state=1)"
   ]
  },
  {
   "cell_type": "code",
   "execution_count": null,
   "metadata": {
    "slideshow": {
     "slide_type": "subslide"
    }
   },
   "outputs": [],
   "source": [
    "from sklearn.metrics import confusion_matrix\n",
    "cm = confusion_matrix(y_test, predictions)\n",
    "tn, fp, fn, tp = cm.ravel()\n",
    "pd.DataFrame(cm)"
   ]
  },
  {
   "cell_type": "code",
   "execution_count": null,
   "metadata": {
    "slideshow": {
     "slide_type": "subslide"
    }
   },
   "outputs": [],
   "source": [
    "sns.heatmap((pd.DataFrame(cm)/len(predictions)).round(decimals=2), annot=True)"
   ]
  },
  {
   "cell_type": "markdown",
   "metadata": {
    "slideshow": {
     "slide_type": "subslide"
    }
   },
   "source": [
    "![Binäre Klassifikationsmetriken](static/metrics.png)"
   ]
  },
  {
   "cell_type": "markdown",
   "metadata": {
    "slideshow": {
     "slide_type": "subslide"
    }
   },
   "source": [
    "### False Positive Rate / Fehler 1. Art \n",
    "\n",
    "Wie viele der positiven Ereignisse (Passagier überlebt) wurden falsch vorhergesagt?\n",
    "\n",
    "=> Bei wie vielen dachten wir, sie werden ertrinken, obwohl sie überlebt haben"
   ]
  },
  {
   "cell_type": "code",
   "execution_count": null,
   "metadata": {
    "slideshow": {
     "slide_type": "fragment"
    }
   },
   "outputs": [],
   "source": [
    "false_positive_rate = fp / (fp + tn)\n",
    "false_positive_rate"
   ]
  },
  {
   "cell_type": "markdown",
   "metadata": {
    "slideshow": {
     "slide_type": "subslide"
    }
   },
   "source": [
    "### False Negative Rate / Fehler 2. Art \n",
    "\n",
    "Wie viele der negativen Ereignisse (verstorben) wurden falsch vorhergesagt?\n",
    "\n",
    "=> Bei wie vielen dachten wir, sie werden ertrinken, obwohl sie überlebt haben"
   ]
  },
  {
   "cell_type": "code",
   "execution_count": null,
   "metadata": {
    "slideshow": {
     "slide_type": "fragment"
    }
   },
   "outputs": [],
   "source": [
    "false_negative_rate = fn / (tp + fn)\n",
    "false_negative_rate"
   ]
  },
  {
   "cell_type": "markdown",
   "metadata": {
    "slideshow": {
     "slide_type": "subslide"
    }
   },
   "source": [
    "### True Negative Rate / Specificity / Spezifität \n",
    "\n",
    "Wie viele der negativen Ereignisse (verstorben) haben wir korrekt vorhergesagt"
   ]
  },
  {
   "cell_type": "code",
   "execution_count": null,
   "metadata": {
    "slideshow": {
     "slide_type": "fragment"
    }
   },
   "outputs": [],
   "source": [
    "specificity = tn / (tn + fp)\n",
    "specificity"
   ]
  },
  {
   "cell_type": "markdown",
   "metadata": {
    "slideshow": {
     "slide_type": "subslide"
    }
   },
   "source": [
    "### True Positive Rate / Recall / Sensitivität\n",
    "\n",
    "Wie viele der positiven Ereignisse (überlebt) haben wir korrekt vorhergesagt"
   ]
  },
  {
   "cell_type": "code",
   "execution_count": null,
   "metadata": {
    "slideshow": {
     "slide_type": "fragment"
    }
   },
   "outputs": [],
   "source": [
    "recall = tp / (tp + fn)\n",
    "recall\n",
    "\n",
    "# oder auch\n",
    "from sklearn.metrics import recall_score\n",
    "recall_score(y_test, predictions)"
   ]
  },
  {
   "cell_type": "markdown",
   "metadata": {
    "slideshow": {
     "slide_type": "subslide"
    }
   },
   "source": [
    "### Positive Predictive Value / Precision / Genauigkeit\n",
    "Wie viele der positiv vorhergesagten Ereignisse waren auch positiv (haben auch überlebt)"
   ]
  },
  {
   "cell_type": "code",
   "execution_count": null,
   "metadata": {
    "slideshow": {
     "slide_type": "fragment"
    }
   },
   "outputs": [],
   "source": [
    "precision = tp/ (tp + fp)\n",
    "\n",
    "# oder auch\n",
    "from sklearn.metrics import precision_score\n",
    "precision_score(y_test, predictions)"
   ]
  },
  {
   "cell_type": "markdown",
   "metadata": {
    "slideshow": {
     "slide_type": "subslide"
    }
   },
   "source": [
    "### Accuracy\n",
    "\n",
    "Wie viele der vorhersagen stimmen?"
   ]
  },
  {
   "cell_type": "code",
   "execution_count": null,
   "metadata": {
    "slideshow": {
     "slide_type": "fragment"
    }
   },
   "outputs": [],
   "source": [
    "accuracy = (tp + tn) / (tp + fp + fn + tn)\n",
    "\n",
    "# oder auch\n",
    "from sklearn.metrics import accuracy_score\n",
    "accuracy_score(y_test, predictions)"
   ]
  },
  {
   "cell_type": "markdown",
   "metadata": {
    "slideshow": {
     "slide_type": "subslide"
    }
   },
   "source": [
    "### F1-Score"
   ]
  },
  {
   "cell_type": "markdown",
   "metadata": {
    "slideshow": {
     "slide_type": "fragment"
    }
   },
   "source": [
    "Das harmonische Mittel zwischen Precision und Recall"
   ]
  },
  {
   "cell_type": "code",
   "execution_count": null,
   "metadata": {
    "slideshow": {
     "slide_type": "fragment"
    }
   },
   "outputs": [],
   "source": [
    "f1 = 2 * precision * recall / (precision + recall)\n",
    "\n",
    "# oder auch\n",
    "from sklearn.metrics import f1_score\n",
    "f1_score(y_test, predictions)"
   ]
  },
  {
   "cell_type": "markdown",
   "metadata": {
    "slideshow": {
     "slide_type": "subslide"
    }
   },
   "source": [
    "## Modell-Analyse"
   ]
  },
  {
   "cell_type": "code",
   "execution_count": null,
   "metadata": {
    "slideshow": {
     "slide_type": "subslide"
    }
   },
   "outputs": [],
   "source": [
    "classifier.feature_importances_"
   ]
  },
  {
   "cell_type": "code",
   "execution_count": null,
   "metadata": {
    "slideshow": {
     "slide_type": "subslide"
    }
   },
   "outputs": [],
   "source": [
    "pd.DataFrame(zip(X.columns, classifier.feature_importances_), columns=[\"feature\", \"importance\"])\\\n",
    ".set_index(\"feature\").sort_values(\"importance\")\\\n",
    ".plot.barh()"
   ]
  },
  {
   "cell_type": "markdown",
   "metadata": {
    "toc-hr-collapsed": true
   },
   "source": [
    "## Cross-Validation"
   ]
  },
  {
   "cell_type": "code",
   "execution_count": null,
   "metadata": {
    "slideshow": {
     "slide_type": "subslide"
    }
   },
   "outputs": [],
   "source": [
    "from sklearn.model_selection import cross_val_score\n",
    "cv_scores = cross_val_score(classifier, X, y, scoring = \"accuracy\", cv=10)\n",
    "print(cv_scores)\n",
    "np.mean(cv_scores)"
   ]
  },
  {
   "cell_type": "code",
   "execution_count": null,
   "metadata": {
    "slideshow": {
     "slide_type": "subslide"
    }
   },
   "outputs": [],
   "source": [
    "from sklearn.model_selection import cross_val_score\n",
    "cv_scores = cross_val_score(classifier, X, y, scoring = \"accuracy\", cv=2)\n",
    "print(cv_scores)\n",
    "np.mean(cv_scores)"
   ]
  },
  {
   "cell_type": "markdown",
   "metadata": {
    "slideshow": {
     "slide_type": "subslide"
    }
   },
   "source": [
    "## Learning Curves"
   ]
  },
  {
   "cell_type": "markdown",
   "metadata": {
    "slideshow": {
     "slide_type": "subslide"
    }
   },
   "source": [
    "From the [Scikit-Learn Documentation](https://scikit-learn.org/stable/auto_examples/model_selection/plot_learning_curve.html)"
   ]
  },
  {
   "cell_type": "code",
   "execution_count": null,
   "metadata": {
    "jupyter": {
     "source_hidden": true
    },
    "slideshow": {
     "slide_type": "subslide"
    }
   },
   "outputs": [],
   "source": [
    "print(__doc__)\n",
    "\n",
    "import numpy as np\n",
    "import matplotlib.pyplot as plt\n",
    "from sklearn.naive_bayes import GaussianNB\n",
    "from sklearn.svm import SVC\n",
    "from sklearn.datasets import load_digits\n",
    "from sklearn.model_selection import learning_curve\n",
    "from sklearn.model_selection import ShuffleSplit\n",
    "\n",
    "\n",
    "def plot_learning_curve(estimator, title, X, y, axes=None, ylim=None, cv=None,\n",
    "                        n_jobs=None, train_sizes=np.linspace(.1, 1.0, 5)):\n",
    "    \"\"\"\n",
    "    Generate 3 plots: the test and training learning curve, the training\n",
    "    samples vs fit times curve, the fit times vs score curve.\n",
    "\n",
    "    Parameters\n",
    "    ----------\n",
    "    estimator : object type that implements the \"fit\" and \"predict\" methods\n",
    "        An object of that type which is cloned for each validation.\n",
    "\n",
    "    title : string\n",
    "        Title for the chart.\n",
    "\n",
    "    X : array-like, shape (n_samples, n_features)\n",
    "        Training vector, where n_samples is the number of samples and\n",
    "        n_features is the number of features.\n",
    "\n",
    "    y : array-like, shape (n_samples) or (n_samples, n_features), optional\n",
    "        Target relative to X for classification or regression;\n",
    "        None for unsupervised learning.\n",
    "\n",
    "    axes : array of 3 axes, optional (default=None)\n",
    "        Axes to use for plotting the curves.\n",
    "\n",
    "    ylim : tuple, shape (ymin, ymax), optional\n",
    "        Defines minimum and maximum yvalues plotted.\n",
    "\n",
    "    cv : int, cross-validation generator or an iterable, optional\n",
    "        Determines the cross-validation splitting strategy.\n",
    "        Possible inputs for cv are:\n",
    "          - None, to use the default 5-fold cross-validation,\n",
    "          - integer, to specify the number of folds.\n",
    "          - :term:`CV splitter`,\n",
    "          - An iterable yielding (train, test) splits as arrays of indices.\n",
    "\n",
    "        For integer/None inputs, if ``y`` is binary or multiclass,\n",
    "        :class:`StratifiedKFold` used. If the estimator is not a classifier\n",
    "        or if ``y`` is neither binary nor multiclass, :class:`KFold` is used.\n",
    "\n",
    "        Refer :ref:`User Guide <cross_validation>` for the various\n",
    "        cross-validators that can be used here.\n",
    "\n",
    "    n_jobs : int or None, optional (default=None)\n",
    "        Number of jobs to run in parallel.\n",
    "        ``None`` means 1 unless in a :obj:`joblib.parallel_backend` context.\n",
    "        ``-1`` means using all processors. See :term:`Glossary <n_jobs>`\n",
    "        for more details.\n",
    "\n",
    "    train_sizes : array-like, shape (n_ticks,), dtype float or int\n",
    "        Relative or absolute numbers of training examples that will be used to\n",
    "        generate the learning curve. If the dtype is float, it is regarded as a\n",
    "        fraction of the maximum size of the training set (that is determined\n",
    "        by the selected validation method), i.e. it has to be within (0, 1].\n",
    "        Otherwise it is interpreted as absolute sizes of the training sets.\n",
    "        Note that for classification the number of samples usually have to\n",
    "        be big enough to contain at least one sample from each class.\n",
    "        (default: np.linspace(0.1, 1.0, 5))\n",
    "    \"\"\"\n",
    "    if axes is None:\n",
    "        _, axes = plt.subplots(1, 3, figsize=(20, 5))\n",
    "\n",
    "    axes[0].set_title(title)\n",
    "    if ylim is not None:\n",
    "        axes[0].set_ylim(*ylim)\n",
    "    axes[0].set_xlabel(\"Training examples\")\n",
    "    axes[0].set_ylabel(\"Score\")\n",
    "\n",
    "    train_sizes, train_scores, test_scores, fit_times, _ = \\\n",
    "        learning_curve(estimator, X, y, cv=cv, n_jobs=n_jobs,\n",
    "                       train_sizes=train_sizes, return_times=True)\n",
    "    train_scores_mean = np.mean(train_scores, axis=1)\n",
    "    train_scores_std = np.std(train_scores, axis=1)\n",
    "    test_scores_mean = np.mean(test_scores, axis=1)\n",
    "    test_scores_std = np.std(test_scores, axis=1)\n",
    "    fit_times_mean = np.mean(fit_times, axis=1)\n",
    "    fit_times_std = np.std(fit_times, axis=1)\n",
    "\n",
    "    # Plot learning curve\n",
    "    axes[0].grid()\n",
    "    axes[0].fill_between(train_sizes, train_scores_mean - train_scores_std,\n",
    "                         train_scores_mean + train_scores_std, alpha=0.1,\n",
    "                         color=\"r\")\n",
    "    axes[0].fill_between(train_sizes, test_scores_mean - test_scores_std,\n",
    "                         test_scores_mean + test_scores_std, alpha=0.1,\n",
    "                         color=\"g\")\n",
    "    axes[0].plot(train_sizes, train_scores_mean, 'o-', color=\"r\",\n",
    "                 label=\"Training score\")\n",
    "    axes[0].plot(train_sizes, test_scores_mean, 'o-', color=\"g\",\n",
    "                 label=\"Cross-validation score\")\n",
    "    axes[0].legend(loc=\"best\")\n",
    "\n",
    "    # Plot n_samples vs fit_times\n",
    "    axes[1].grid()\n",
    "    axes[1].plot(train_sizes, fit_times_mean, 'o-')\n",
    "    axes[1].fill_between(train_sizes, fit_times_mean - fit_times_std,\n",
    "                         fit_times_mean + fit_times_std, alpha=0.1)\n",
    "    axes[1].set_xlabel(\"Training examples\")\n",
    "    axes[1].set_ylabel(\"fit_times\")\n",
    "    axes[1].set_title(\"Scalability of the model\")\n",
    "\n",
    "    # Plot fit_time vs score\n",
    "    axes[2].grid()\n",
    "    axes[2].plot(fit_times_mean, test_scores_mean, 'o-')\n",
    "    axes[2].fill_between(fit_times_mean, test_scores_mean - test_scores_std,\n",
    "                         test_scores_mean + test_scores_std, alpha=0.1)\n",
    "    axes[2].set_xlabel(\"fit_times\")\n",
    "    axes[2].set_ylabel(\"Score\")\n",
    "    axes[2].set_title(\"Performance of the model\")\n",
    "\n",
    "    return plt"
   ]
  },
  {
   "cell_type": "code",
   "execution_count": null,
   "metadata": {
    "slideshow": {
     "slide_type": "subslide"
    }
   },
   "outputs": [],
   "source": [
    "fig, axes = plt.subplots(3, 1, figsize=(10, 15))\n",
    "\n",
    "cv = ShuffleSplit(n_splits=100, test_size=0.2, random_state=0)\n",
    "\n",
    "plot_learning_curve(classifier, \"Decision Tree max_depth=3\", X, y, axes=axes[:], cv=cv, n_jobs=4)\n",
    "\n",
    "plt.show()"
   ]
  },
  {
   "cell_type": "markdown",
   "metadata": {
    "slideshow": {
     "slide_type": "subslide"
    },
    "toc-hr-collapsed": true
   },
   "source": [
    "## Aufgaben\n",
    "* Erstelle eine Funktion, welche die wichtigsten Metriken berechnet und darstellt\n",
    "* Probiere verschiedene Parameter für den Entscheidungsbaum aus und analysiere die Auswirkungen"
   ]
  },
  {
   "cell_type": "markdown",
   "metadata": {},
   "source": [
    "### Scoring Funktion"
   ]
  },
  {
   "cell_type": "code",
   "execution_count": null,
   "metadata": {},
   "outputs": [],
   "source": [
    "from sklearn.metrics import classification_report\n",
    "\n",
    "print(classification_report(y_test, predictions, target_names=[\"Survived\", \"Drown\"]))"
   ]
  },
  {
   "cell_type": "markdown",
   "metadata": {},
   "source": [
    "* Precision: Anteil der als positiv prognostizierten Werte waren auch wirklich positiv\n",
    "* Recall: Anteil der positiven Werte, die korrekt prognostiziert wurden\n",
    "* F1: Harmonisches Mittel aus Precision und Recall\n",
    "* support: Absolute Anzahl der wahren Ereignisse"
   ]
  },
  {
   "cell_type": "code",
   "execution_count": null,
   "metadata": {},
   "outputs": [],
   "source": [
    "def get_scores(y_test, predictions):\n",
    "    report = classification_report(y_test, predictions, target_names=[\"Survived\", \"Drown\"], output_dict=True)\n",
    "    res = report[\"weighted avg\"]\n",
    "    res[\"accuracy\"] = report[\"accuracy\"]\n",
    "    return res\n",
    "\n",
    "get_scores(y_test, predictions)"
   ]
  },
  {
   "cell_type": "markdown",
   "metadata": {},
   "source": [
    "### Verprobe unterschiedliche Modellparameter"
   ]
  },
  {
   "cell_type": "code",
   "execution_count": null,
   "metadata": {},
   "outputs": [],
   "source": [
    "baseline_predictions = predictions.copy()\n",
    "baseline = pd.Series(get_scores(y_test, predictions))"
   ]
  },
  {
   "cell_type": "code",
   "execution_count": null,
   "metadata": {
    "slideshow": {
     "slide_type": "subslide"
    }
   },
   "outputs": [],
   "source": [
    "classifier = DecisionTreeClassifier(max_depth=2)\n",
    "classifier.fit(X_train, y_train)\n",
    "predictions = classifier.predict(X_test)\n",
    "diff = pd.Series(get_scores(y_test, predictions))-baseline\n",
    "print(diff)"
   ]
  },
  {
   "cell_type": "markdown",
   "metadata": {
    "slideshow": {
     "slide_type": "subslide"
    },
    "toc-hr-collapsed": false
   },
   "source": [
    "# Modeling 2"
   ]
  },
  {
   "cell_type": "markdown",
   "metadata": {
    "slideshow": {
     "slide_type": "slide"
    }
   },
   "source": [
    "## HyperParameter Tuning"
   ]
  },
  {
   "cell_type": "code",
   "execution_count": null,
   "metadata": {},
   "outputs": [],
   "source": [
    "from sklearn.model_selection import RandomizedSearchCV\n",
    "\n",
    "dt_hpt_params = dict()\n",
    "dt_hpt_params[\"max_depth\"] = [2,3,5,10,None]\n",
    "dt_hpt_params[\"min_samples_leaf\"] = [1,2,3,5,10]\n",
    "dt_hpt_params[\"min_samples_split\"] = [1, 2, 3,4,5,10]"
   ]
  },
  {
   "cell_type": "code",
   "execution_count": null,
   "metadata": {
    "slideshow": {
     "slide_type": "subslide"
    }
   },
   "outputs": [],
   "source": [
    "dt = DecisionTreeClassifier()\n",
    "dt_random = RandomizedSearchCV(estimator = dt, param_distributions = dt_hpt_params,\\\n",
    "                               n_iter = 50, scoring=\"f1\", cv = 5, verbose=2, random_state=42, n_jobs = -1)\n",
    "dt_random.fit(X_train, y_train)"
   ]
  },
  {
   "cell_type": "code",
   "execution_count": null,
   "metadata": {},
   "outputs": [],
   "source": [
    "dt_random.best_params_"
   ]
  },
  {
   "cell_type": "code",
   "execution_count": null,
   "metadata": {
    "slideshow": {
     "slide_type": "subslide"
    }
   },
   "outputs": [],
   "source": [
    "fig, axes = plt.subplots(3, 1, figsize=(10, 15))\n",
    "\n",
    "classifier = DecisionTreeClassifier(**dt_random.best_params_)\n",
    "classifier.fit(X_train, y_train)\n",
    "plot_learning_curve(classifier, \"Decision Tree\", X, y, axes=axes[:], cv=cv, n_jobs=4)\n",
    "\n",
    "predictions = classifier.predict(X_test)\n",
    "diff = pd.Series(get_scores(y_test, predictions))-baseline\n",
    "print(diff)\n",
    "\n",
    "print(classification_report(y_test, predictions, target_names=[\"Survived\", \"Drown\"]))\n",
    "plt.show()"
   ]
  },
  {
   "cell_type": "markdown",
   "metadata": {},
   "source": [
    "## Logistic Regresion"
   ]
  },
  {
   "cell_type": "code",
   "execution_count": null,
   "metadata": {
    "slideshow": {
     "slide_type": "subslide"
    }
   },
   "outputs": [],
   "source": [
    "from sklearn.model_selection import StratifiedKFold\n",
    "fig, axes = plt.subplots(3, 1, figsize=(10, 15))\n",
    "\n",
    "cv = StratifiedKFold(n_splits=5, random_state=42)\n",
    "\n",
    "classifier = DecisionTreeClassifier(max_depth=3)\n",
    "classifier.fit(X_train, y_train)\n",
    "plot_learning_curve(classifier, \"Decision Tree\", X, y, axes=axes[:], cv=cv, n_jobs=4)\n",
    "\n",
    "predictions = classifier.predict(X_test)\n",
    "diff = pd.Series(get_scores(y_test, predictions))-baseline\n",
    "print(diff)\n",
    "\n",
    "print(classification_report(y_test, predictions, target_names=[\"Survived\", \"Drown\"]))\n",
    "plt.show()"
   ]
  },
  {
   "cell_type": "markdown",
   "metadata": {},
   "source": [
    "## Vergleich verschiedener Algorithmen"
   ]
  },
  {
   "cell_type": "code",
   "execution_count": null,
   "metadata": {},
   "outputs": [],
   "source": [
    "from sklearn.ensemble import GradientBoostingClassifier\n",
    "from sklearn.neighbors import KNeighborsClassifier\n",
    "from sklearn.tree import DecisionTreeClassifier\n",
    "from sklearn.linear_model import LogisticRegression\n",
    "from sklearn.model_selection import GridSearchCV, cross_val_score, learning_curve\n",
    "\n",
    "cv = StratifiedKFold(n_splits=5, random_state=42)\n",
    "\n",
    "X_train = train.drop(columns=\"Survived\")\n",
    "y_train = train[['Survived']]\n",
    "\n",
    "classifiers = [DecisionTreeClassifier(), LogisticRegression(), KNeighborsClassifier(), GradientBoostingClassifier()]\n",
    "\n",
    "algorithm_names = []\n",
    "cv_means = []\n",
    "cv_std = []\n",
    "for classifier in classifiers:\n",
    "    classifier.random_state=42\n",
    "    algorithm_names.append(type(classifier).__name__)\n",
    "    cv_result = cross_val_score(classifier, X_train, y = y_train, scoring = \"f1\", cv = cv, n_jobs=-1)\n",
    "    cv_means.append(cv_result.mean())\n",
    "    cv_std.append(cv_result.std())\n",
    "    \n",
    "#algorithm_names = [\"SVC\",\"DecisionTree\",\"AdaBoost\",\"RandomForest\",\"ExtraTrees\",\"GradientBoosting\",\"MultipleLayerPerceptron\",\"KNeighboors\",\"LogisticRegression\",\"LinearDiscriminantAnalysis\"]\n",
    "cv_res = pd.DataFrame({\"mean\":cv_means,\"std\": cv_std,\"Algorithm\":algorithm_names})"
   ]
  },
  {
   "cell_type": "code",
   "execution_count": null,
   "metadata": {},
   "outputs": [],
   "source": [
    "cv_res"
   ]
  },
  {
   "cell_type": "code",
   "execution_count": null,
   "metadata": {},
   "outputs": [],
   "source": [
    "figsize(15,5)\n",
    "g = sns.barplot(\"mean\",\"Algorithm\",data = cv_res, xerr=cv_std)\n",
    "g.set_xlabel(\"Mean Accuracy\")\n",
    "g = g.set_title(\"Cross validation scores\")"
   ]
  },
  {
   "cell_type": "code",
   "execution_count": null,
   "metadata": {
    "slideshow": {
     "slide_type": "subslide"
    }
   },
   "outputs": [],
   "source": [
    "fig, axes = plt.subplots(3, len(classifiers), figsize=(20, 20))\n",
    "\n",
    "for i, estimator in enumerate(classifiers):\n",
    "    title = f\"{estimator.__class__.__name__}\"\n",
    "    plot_learning_curve(estimator, title, X, y, axes=axes[:, i],\n",
    "                        cv=cv, n_jobs=4)\n",
    "\n",
    "plt.show()"
   ]
  },
  {
   "cell_type": "markdown",
   "metadata": {
    "toc-hr-collapsed": true,
    "toc-nb-collapsed": true
   },
   "source": [
    "# Evaluation & Deployment"
   ]
  },
  {
   "cell_type": "markdown",
   "metadata": {
    "slideshow": {
     "slide_type": "subslide"
    }
   },
   "source": [
    "## Define pipeline"
   ]
  },
  {
   "cell_type": "markdown",
   "metadata": {
    "slideshow": {
     "slide_type": "subslide"
    }
   },
   "source": [
    "## Build API"
   ]
  },
  {
   "cell_type": "code",
   "execution_count": null,
   "metadata": {
    "slideshow": {
     "slide_type": "subslide"
    }
   },
   "outputs": [],
   "source": [
    "%%writefile api.py\n",
    "\n",
    "import pickle\n",
    "from fastapi import FastAPI\n",
    "from pydantic import BaseModel\n",
    "from model_preperation import ModelPreperation\n",
    "import model_preperation\n",
    "import joblib\n",
    "from sklearn.pipeline import FeatureUnion, Pipeline \n",
    "\n",
    "app = FastAPI()\n",
    "\n",
    "import numpy as np \n",
    "import pandas as pd\n",
    "from sklearn.ensemble import GradientBoostingClassifier\n",
    "\n",
    "class Passenger(BaseModel):\n",
    "    PassengerId: float = 1\n",
    "    Pclass: str = 3\n",
    "    Name: str = 'Nico, Rare. Kreiling'\n",
    "    Sex: str = 'F'\n",
    "    Age: int = 30\n",
    "    SibSp: float = 0\n",
    "    Parch: float = 3\n",
    "    Ticket: str = ''\n",
    "    Fare: float = 100\n",
    "    Cabin: str = ''\n",
    "    Embarked: str = 'C'\n",
    "        \n",
    "@app.get(\"/\")\n",
    "async def root():\n",
    "    return {\"message\": \"Hello World\"}\n",
    "\n",
    "@app.get(\"/survived/passanger_id/{user_id}\")\n",
    "async def read_item(user_id):\n",
    "    return {\"item_id\": user_id}\n",
    "\n",
    "@app.post(\"/survived/custom\")\n",
    "async def root(passenger: Passenger):\n",
    "    prediction = pipe.predict(pd.Series(dict(passenger)).to_frame().transpose())\n",
    "    if prediction[0] == 0:\n",
    "        return {\"message\": \"Sorry, you die!\"}\n",
    "    else:\n",
    "        return {\"message\": \"Yeaaah, you will survive :)\"}"
   ]
  },
  {
   "cell_type": "code",
   "execution_count": null,
   "metadata": {
    "slideshow": {
     "slide_type": "subslide"
    }
   },
   "outputs": [],
   "source": [
    "import requests\n",
    "form_data = {\n",
    "    \"Pclass\": 3, \n",
    "    \"Name\": 'Nico, Mr. Kreiling',\n",
    "    \"Sex\": 'M',\n",
    "    \"Age\": 30,\n",
    "    \"SibSp\": 4,\n",
    "    \"Parch\": 0,\n",
    "    \"Fare\": 100,\n",
    "    \"Embarked\": 'C'\n",
    "}\n",
    "r = requests.post('http://127.0.0.1:8000/survived/custom', json=form_data)\n",
    "r.status_code\n",
    "r.json()[\"message\"]"
   ]
  },
  {
   "cell_type": "markdown",
   "metadata": {
    "toc-hr-collapsed": true,
    "toc-nb-collapsed": true
   },
   "source": [
    "# Bonus"
   ]
  },
  {
   "cell_type": "markdown",
   "metadata": {
    "slideshow": {
     "slide_type": "subslide"
    }
   },
   "source": [
    "## Title"
   ]
  },
  {
   "cell_type": "code",
   "execution_count": null,
   "metadata": {},
   "outputs": [],
   "source": [
    "train_raw.Name.sample(10)"
   ]
  },
  {
   "cell_type": "code",
   "execution_count": null,
   "metadata": {
    "slideshow": {
     "slide_type": "subslide"
    }
   },
   "outputs": [],
   "source": [
    "train_raw.Name.str.extract(' ([A-Za-z]+)\\.', expand=False).value_counts().plot(kind=\"bar\")"
   ]
  },
  {
   "cell_type": "code",
   "execution_count": null,
   "metadata": {
    "slideshow": {
     "slide_type": "subslide"
    }
   },
   "outputs": [],
   "source": [
    "def get_title(df):\n",
    "    titles = df.Name.str.extract(' ([A-Za-z]+)\\.', expand=False)\n",
    "    titles = titles.replace(['Lady', 'Countess','Capt', 'Col','Don', 'Dr', 'Major', 'Rev', 'Sir', 'Jonkheer', 'Dona'],'Rare')\n",
    "    titles = titles.replace('Mlle','Miss')\n",
    "    titles = titles.replace('Ms','Miss')\n",
    "    titles = titles.replace('Mme','Mrs')\n",
    "    return titles\n",
    "\n",
    "get_title(train_raw).value_counts().plot(kind=\"bar\")"
   ]
  },
  {
   "cell_type": "code",
   "execution_count": null,
   "metadata": {
    "slideshow": {
     "slide_type": "subslide"
    }
   },
   "outputs": [],
   "source": [
    "train[\"title\"] = get_title(train_raw)\n",
    "test[\"title\"] = get_title(test_raw)\n",
    "\n",
    "from sklearn.preprocessing import LabelEncoder\n",
    "title_encoder = LabelEncoder()\n",
    "title_encoder.fit(train.title)\n",
    "for df in [train, test]:\n",
    "    df[\"title\"] = title_encoder.transform(df.title)"
   ]
  },
  {
   "cell_type": "markdown",
   "metadata": {
    "slideshow": {
     "slide_type": "subslide"
    }
   },
   "source": [
    "## Auto-Features (PClass * Age)"
   ]
  },
  {
   "cell_type": "code",
   "execution_count": null,
   "metadata": {
    "slideshow": {
     "slide_type": "subslide"
    }
   },
   "outputs": [],
   "source": [
    "for df in [train, test]:\n",
    "    df[\"comb\"] = df.Pclass * df.Age"
   ]
  },
  {
   "cell_type": "markdown",
   "metadata": {},
   "source": [
    "## Aufgabe \n",
    "Analysiere den Einfluss der neuen Features auf dein Modell"
   ]
  },
  {
   "cell_type": "code",
   "execution_count": null,
   "metadata": {},
   "outputs": [],
   "source": [
    "train.columns"
   ]
  },
  {
   "cell_type": "code",
   "execution_count": null,
   "metadata": {},
   "outputs": [],
   "source": [
    "gb_params = {'n_estimators': 200,'min_samples_split': 16,'min_samples_leaf': 16,'max_features': 5,'max_depth': 3,'learning_rate': 0.25}\n",
    "\n",
    "algorithm_names = [\"mit neuen Features\", \"ohne neue Features\"]\n",
    "cv_means = []\n",
    "cv_std = []\n",
    "fe = []\n",
    "\n",
    "for dataset in [train, train.drop(columns=[\"title\", \"comb\"])]:\n",
    "    X_train = dataset.copy().drop(columns=\"Survived\")\n",
    "    y_train = dataset[['Survived']]\n",
    "    classifier.random_state=42\n",
    "    cv_result = cross_val_score(classifier, X_train, y = y_train, scoring = \"f1\", cv = cv, n_jobs=-1)\n",
    "    cv_means.append(cv_result.mean())\n",
    "    cv_std.append(cv_result.std())\n",
    "    clf = GradientBoostingClassifier(**gb_params).fit(X_train, y_train)\n",
    "    fe.append(pd.DataFrame(zip(X_train.columns, clf.feature_importances_), columns=[\"feature\", \"importance\"]))\n",
    "cv_res = pd.DataFrame({\"mean\":cv_means,\"std\": cv_std,\"Algorithm\":algorithm_names})"
   ]
  },
  {
   "cell_type": "code",
   "execution_count": null,
   "metadata": {},
   "outputs": [],
   "source": [
    "fe[0].set_index(\"feature\").sort_values(\"importance\").plot.barh()"
   ]
  },
  {
   "cell_type": "code",
   "execution_count": null,
   "metadata": {
    "slideshow": {
     "slide_type": "subslide"
    }
   },
   "outputs": [],
   "source": [
    "fe[1].set_index(\"feature\").sort_values(\"importance\").plot.barh()"
   ]
  },
  {
   "cell_type": "code",
   "execution_count": null,
   "metadata": {},
   "outputs": [],
   "source": [
    "cv_res"
   ]
  },
  {
   "cell_type": "code",
   "execution_count": null,
   "metadata": {},
   "outputs": [],
   "source": [
    "figsize(15,5)\n",
    "g = sns.barplot(\"mean\",\"Algorithm\",data = cv_res, xerr=cv_std)\n",
    "g.set_xlabel(\"Mean Accuracy\")\n",
    "g = g.set_title(\"Cross validation scores\")"
   ]
  },
  {
   "cell_type": "code",
   "execution_count": null,
   "metadata": {
    "slideshow": {
     "slide_type": "subslide"
    }
   },
   "outputs": [],
   "source": [
    "%matplotlib inline\n",
    "figsize(12, 7)\n",
    "\n",
    "sns.heatmap(df.corr(), vmin=-1, vmax=1, cmap=\"PiYG\")"
   ]
  },
  {
   "cell_type": "markdown",
   "metadata": {
    "slideshow": {
     "slide_type": "subslide"
    }
   },
   "source": [
    "## Bucket Numerical Features and 1-hot encode"
   ]
  },
  {
   "cell_type": "code",
   "execution_count": null,
   "metadata": {
    "slideshow": {
     "slide_type": "subslide"
    }
   },
   "outputs": [],
   "source": [
    "from sklearn.preprocessing import MinMaxScaler\n",
    "scaler = MinMaxScaler()\n",
    "\n",
    "#float_cols = list(train.dtypes[train.dtypes == float].index)\n",
    "float_cols = ['Age', 'Fare', 'comb', 'family_size']\n",
    "scaler.fit(train[float_cols])\n",
    "\n",
    "for df in [train, test]:\n",
    "    df[float_cols] = scaler.transform(df[float_cols])"
   ]
  },
  {
   "cell_type": "code",
   "execution_count": null,
   "metadata": {
    "slideshow": {
     "slide_type": "subslide"
    }
   },
   "outputs": [],
   "source": [
    "print(list(train.dtypes[train.dtypes == int].index))\n",
    "dummie_cols = ['Pclass', 'Embarked', 'title']    \n",
    "for c in dummie_cols:  \n",
    "    print(c)\n",
    "    for df in [train, test]:\n",
    "        if len(df[c].unique()) > 2:\n",
    "            dummies = pd.get_dummies(df[c], prefix=c, drop_first=False)\n",
    "            for d in dummies:\n",
    "                df[d] = dummies[d]\n",
    "            df.drop(columns=c, inplace=True)"
   ]
  }
 ],
 "metadata": {
  "kernelspec": {
   "display_name": "Python [conda env:ds]",
   "language": "python",
   "name": "conda-env-ds-py"
  },
  "language_info": {
   "codemirror_mode": {
    "name": "ipython",
    "version": 3
   },
   "file_extension": ".py",
   "mimetype": "text/x-python",
   "name": "python",
   "nbconvert_exporter": "python",
   "pygments_lexer": "ipython3",
   "version": "3.8.2"
  },
  "toc-autonumbering": true,
  "toc-showmarkdowntxt": false,
  "toc-showtags": false
 },
 "nbformat": 4,
 "nbformat_minor": 4
}
