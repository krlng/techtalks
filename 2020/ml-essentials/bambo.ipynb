{
 "cells": [
  {
   "cell_type": "code",
   "execution_count": 3,
   "metadata": {},
   "outputs": [
    {
     "data": {
      "application/vnd.jupyter.widget-view+json": {
       "model_id": "b139eca11ec34afda89a69adaff4805e",
       "version_major": 2,
       "version_minor": 0
      },
      "text/plain": [
       "VBox(children=(HTML(value='<div style=\"color:#004085;background-color:#cce5ff;border-color:#b8daff;position: r…"
      ]
     },
     "metadata": {},
     "output_type": "display_data"
    }
   ],
   "source": [
    "# get titanic & test csv files as a DataFrame\n",
    "import pandas as pd\n",
    "train = pd.read_csv(\"./data/titanic/train.csv\")\n",
    "\n",
    "import bamboolib as bam\n",
    "bam.show(train)"
   ]
  },
  {
   "cell_type": "code",
   "execution_count": 2,
   "metadata": {},
   "outputs": [
    {
     "name": "stdout",
     "output_type": "stream",
     "text": [
      "Collecting bamboolib\n",
      "\u001b[?25l  Downloading https://files.pythonhosted.org/packages/a3/98/0bcb81f3e9ae868415d857768cbcd0b929e92cd0c08e1f274867a8a7c378/bamboolib-1.2.0-cp37-cp37m-macosx_10_6_intel.macosx_10_9_intel.macosx_10_9_x86_64.macosx_10_10_intel.macosx_10_10_x86_64.whl (9.9MB)\n",
      "\u001b[K     |████████████████████████████████| 9.9MB 6.2MB/s eta 0:00:01\n",
      "\u001b[?25hCollecting analytics-python>=1.2.9 (from bamboolib)\n",
      "  Downloading https://files.pythonhosted.org/packages/d3/37/c49d052f88655cd96445c36979fb63f69ef859e167eaff5706ca7c8a8ee3/analytics_python-1.2.9-py2.py3-none-any.whl\n",
      "Requirement already satisfied: notebook>=5.3.0 in /Users/nicokreiling/anaconda3/lib/python3.7/site-packages (from bamboolib) (6.0.0)\n",
      "Requirement already satisfied: cryptography>=2.6.1 in /Users/nicokreiling/anaconda3/lib/python3.7/site-packages (from bamboolib) (2.7)\n",
      "Requirement already satisfied: qgrid>=1.1.1 in /Users/nicokreiling/anaconda3/lib/python3.7/site-packages (from bamboolib) (1.2.0)\n",
      "Collecting plotly>=3.10.0 (from bamboolib)\n",
      "\u001b[?25l  Downloading https://files.pythonhosted.org/packages/8e/ce/6ea5683c47b682bffad39ad41d10913141b560b1b875a90dbc6abe3f4fa9/plotly-4.4.1-py2.py3-none-any.whl (7.3MB)\n",
      "\u001b[K     |████████████████████████████████| 7.3MB 15.0MB/s eta 0:00:01\n",
      "\u001b[?25hRequirement already satisfied: pandas>=0.18.0 in /Users/nicokreiling/anaconda3/lib/python3.7/site-packages (from bamboolib) (0.24.2)\n",
      "Requirement already satisfied: ipywidgets>=7.0.0 in /Users/nicokreiling/anaconda3/lib/python3.7/site-packages (from bamboolib) (7.5.0)\n",
      "Requirement already satisfied: scikit-learn>=0.20.2 in /Users/nicokreiling/.local/lib/python3.7/site-packages (from bamboolib) (0.20.4)\n",
      "Requirement already satisfied: jupyterlab>=1.0 in /Users/nicokreiling/anaconda3/lib/python3.7/site-packages (from bamboolib) (1.2.4)\n",
      "Requirement already satisfied: requests<3.0,>=2.7 in /Users/nicokreiling/anaconda3/lib/python3.7/site-packages (from analytics-python>=1.2.9->bamboolib) (2.22.0)\n",
      "Requirement already satisfied: python-dateutil>2.1 in /Users/nicokreiling/anaconda3/lib/python3.7/site-packages (from analytics-python>=1.2.9->bamboolib) (2.8.0)\n",
      "Requirement already satisfied: six>=1.5 in /Users/nicokreiling/anaconda3/lib/python3.7/site-packages (from analytics-python>=1.2.9->bamboolib) (1.12.0)\n",
      "Requirement already satisfied: traitlets>=4.2.1 in /Users/nicokreiling/anaconda3/lib/python3.7/site-packages (from notebook>=5.3.0->bamboolib) (4.3.2)\n",
      "Requirement already satisfied: ipykernel in /Users/nicokreiling/anaconda3/lib/python3.7/site-packages (from notebook>=5.3.0->bamboolib) (5.1.1)\n",
      "Requirement already satisfied: Send2Trash in /Users/nicokreiling/anaconda3/lib/python3.7/site-packages (from notebook>=5.3.0->bamboolib) (1.5.0)\n",
      "Requirement already satisfied: jinja2 in /Users/nicokreiling/anaconda3/lib/python3.7/site-packages (from notebook>=5.3.0->bamboolib) (2.10.1)\n",
      "Requirement already satisfied: nbconvert in /Users/nicokreiling/anaconda3/lib/python3.7/site-packages (from notebook>=5.3.0->bamboolib) (5.5.0)\n",
      "Requirement already satisfied: prometheus-client in /Users/nicokreiling/anaconda3/lib/python3.7/site-packages (from notebook>=5.3.0->bamboolib) (0.7.1)\n",
      "Requirement already satisfied: ipython-genutils in /Users/nicokreiling/anaconda3/lib/python3.7/site-packages (from notebook>=5.3.0->bamboolib) (0.2.0)\n",
      "Requirement already satisfied: jupyter-core>=4.4.0 in /Users/nicokreiling/anaconda3/lib/python3.7/site-packages (from notebook>=5.3.0->bamboolib) (4.5.0)\n",
      "Requirement already satisfied: nbformat in /Users/nicokreiling/anaconda3/lib/python3.7/site-packages (from notebook>=5.3.0->bamboolib) (4.4.0)\n",
      "Requirement already satisfied: jupyter-client>=5.3.1 in /Users/nicokreiling/anaconda3/lib/python3.7/site-packages (from notebook>=5.3.0->bamboolib) (5.3.1)\n",
      "Requirement already satisfied: terminado>=0.8.1 in /Users/nicokreiling/anaconda3/lib/python3.7/site-packages (from notebook>=5.3.0->bamboolib) (0.8.2)\n",
      "Requirement already satisfied: tornado>=5.0 in /Users/nicokreiling/anaconda3/lib/python3.7/site-packages (from notebook>=5.3.0->bamboolib) (6.0.3)\n",
      "Requirement already satisfied: pyzmq>=17 in /Users/nicokreiling/anaconda3/lib/python3.7/site-packages (from notebook>=5.3.0->bamboolib) (18.0.0)\n",
      "Requirement already satisfied: asn1crypto>=0.21.0 in /Users/nicokreiling/anaconda3/lib/python3.7/site-packages (from cryptography>=2.6.1->bamboolib) (0.24.0)\n",
      "Requirement already satisfied: cffi!=1.11.3,>=1.8 in /Users/nicokreiling/anaconda3/lib/python3.7/site-packages (from cryptography>=2.6.1->bamboolib) (1.12.3)\n",
      "Collecting retrying>=1.3.3 (from plotly>=3.10.0->bamboolib)\n",
      "Requirement already satisfied: numpy>=1.12.0 in /Users/nicokreiling/anaconda3/lib/python3.7/site-packages (from pandas>=0.18.0->bamboolib) (1.16.4)\n",
      "Requirement already satisfied: pytz>=2011k in /Users/nicokreiling/anaconda3/lib/python3.7/site-packages (from pandas>=0.18.0->bamboolib) (2019.1)\n",
      "Requirement already satisfied: widgetsnbextension~=3.5.0 in /Users/nicokreiling/anaconda3/lib/python3.7/site-packages (from ipywidgets>=7.0.0->bamboolib) (3.5.0)\n",
      "Requirement already satisfied: ipython>=4.0.0; python_version >= \"3.3\" in /Users/nicokreiling/anaconda3/lib/python3.7/site-packages (from ipywidgets>=7.0.0->bamboolib) (7.6.1)\n",
      "Requirement already satisfied: scipy>=0.13.3 in /Users/nicokreiling/anaconda3/lib/python3.7/site-packages (from scikit-learn>=0.20.2->bamboolib) (1.3.0)\n",
      "Requirement already satisfied: jupyterlab-server~=1.0.0 in /Users/nicokreiling/anaconda3/lib/python3.7/site-packages (from jupyterlab>=1.0->bamboolib) (1.0.0)\n",
      "Requirement already satisfied: idna<2.9,>=2.5 in /Users/nicokreiling/anaconda3/lib/python3.7/site-packages (from requests<3.0,>=2.7->analytics-python>=1.2.9->bamboolib) (2.8)\n",
      "Requirement already satisfied: certifi>=2017.4.17 in /Users/nicokreiling/anaconda3/lib/python3.7/site-packages (from requests<3.0,>=2.7->analytics-python>=1.2.9->bamboolib) (2019.9.11)\n",
      "Requirement already satisfied: chardet<3.1.0,>=3.0.2 in /Users/nicokreiling/anaconda3/lib/python3.7/site-packages (from requests<3.0,>=2.7->analytics-python>=1.2.9->bamboolib) (3.0.4)\n",
      "Requirement already satisfied: urllib3!=1.25.0,!=1.25.1,<1.26,>=1.21.1 in /Users/nicokreiling/anaconda3/lib/python3.7/site-packages (from requests<3.0,>=2.7->analytics-python>=1.2.9->bamboolib) (1.24.2)\n",
      "Requirement already satisfied: decorator in /Users/nicokreiling/anaconda3/lib/python3.7/site-packages (from traitlets>=4.2.1->notebook>=5.3.0->bamboolib) (4.4.0)\n",
      "Requirement already satisfied: MarkupSafe>=0.23 in /Users/nicokreiling/anaconda3/lib/python3.7/site-packages (from jinja2->notebook>=5.3.0->bamboolib) (1.1.1)\n",
      "Requirement already satisfied: pygments in /Users/nicokreiling/anaconda3/lib/python3.7/site-packages (from nbconvert->notebook>=5.3.0->bamboolib) (2.4.2)\n",
      "Requirement already satisfied: bleach in /Users/nicokreiling/anaconda3/lib/python3.7/site-packages (from nbconvert->notebook>=5.3.0->bamboolib) (3.1.0)\n",
      "Requirement already satisfied: testpath in /Users/nicokreiling/anaconda3/lib/python3.7/site-packages (from nbconvert->notebook>=5.3.0->bamboolib) (0.4.2)\n",
      "Requirement already satisfied: defusedxml in /Users/nicokreiling/anaconda3/lib/python3.7/site-packages (from nbconvert->notebook>=5.3.0->bamboolib) (0.6.0)\n",
      "Requirement already satisfied: entrypoints>=0.2.2 in /Users/nicokreiling/anaconda3/lib/python3.7/site-packages (from nbconvert->notebook>=5.3.0->bamboolib) (0.3)\n",
      "Requirement already satisfied: pandocfilters>=1.4.1 in /Users/nicokreiling/anaconda3/lib/python3.7/site-packages (from nbconvert->notebook>=5.3.0->bamboolib) (1.4.2)\n",
      "Requirement already satisfied: mistune>=0.8.1 in /Users/nicokreiling/anaconda3/lib/python3.7/site-packages (from nbconvert->notebook>=5.3.0->bamboolib) (0.8.4)\n",
      "Requirement already satisfied: jsonschema!=2.5.0,>=2.4 in /Users/nicokreiling/anaconda3/lib/python3.7/site-packages (from nbformat->notebook>=5.3.0->bamboolib) (3.0.1)\n",
      "Requirement already satisfied: pycparser in /Users/nicokreiling/anaconda3/lib/python3.7/site-packages (from cffi!=1.11.3,>=1.8->cryptography>=2.6.1->bamboolib) (2.19)\n",
      "Requirement already satisfied: prompt-toolkit<2.1.0,>=2.0.0 in /Users/nicokreiling/anaconda3/lib/python3.7/site-packages (from ipython>=4.0.0; python_version >= \"3.3\"->ipywidgets>=7.0.0->bamboolib) (2.0.9)\n",
      "Requirement already satisfied: appnope; sys_platform == \"darwin\" in /Users/nicokreiling/anaconda3/lib/python3.7/site-packages (from ipython>=4.0.0; python_version >= \"3.3\"->ipywidgets>=7.0.0->bamboolib) (0.1.0)\n",
      "Requirement already satisfied: pickleshare in /Users/nicokreiling/anaconda3/lib/python3.7/site-packages (from ipython>=4.0.0; python_version >= \"3.3\"->ipywidgets>=7.0.0->bamboolib) (0.7.5)\n",
      "Requirement already satisfied: jedi>=0.10 in /Users/nicokreiling/anaconda3/lib/python3.7/site-packages (from ipython>=4.0.0; python_version >= \"3.3\"->ipywidgets>=7.0.0->bamboolib) (0.13.3)\n",
      "Requirement already satisfied: backcall in /Users/nicokreiling/anaconda3/lib/python3.7/site-packages (from ipython>=4.0.0; python_version >= \"3.3\"->ipywidgets>=7.0.0->bamboolib) (0.1.0)\n",
      "Requirement already satisfied: setuptools>=18.5 in /Users/nicokreiling/anaconda3/lib/python3.7/site-packages (from ipython>=4.0.0; python_version >= \"3.3\"->ipywidgets>=7.0.0->bamboolib) (41.0.1)\n",
      "Requirement already satisfied: pexpect; sys_platform != \"win32\" in /Users/nicokreiling/anaconda3/lib/python3.7/site-packages (from ipython>=4.0.0; python_version >= \"3.3\"->ipywidgets>=7.0.0->bamboolib) (4.7.0)\n",
      "Requirement already satisfied: json5 in /Users/nicokreiling/anaconda3/lib/python3.7/site-packages (from jupyterlab-server~=1.0.0->jupyterlab>=1.0->bamboolib) (0.8.4)\n",
      "Requirement already satisfied: webencodings in /Users/nicokreiling/anaconda3/lib/python3.7/site-packages (from bleach->nbconvert->notebook>=5.3.0->bamboolib) (0.5.1)\n",
      "Requirement already satisfied: attrs>=17.4.0 in /Users/nicokreiling/anaconda3/lib/python3.7/site-packages (from jsonschema!=2.5.0,>=2.4->nbformat->notebook>=5.3.0->bamboolib) (19.1.0)\n",
      "Requirement already satisfied: pyrsistent>=0.14.0 in /Users/nicokreiling/anaconda3/lib/python3.7/site-packages (from jsonschema!=2.5.0,>=2.4->nbformat->notebook>=5.3.0->bamboolib) (0.14.11)\n",
      "Requirement already satisfied: wcwidth in /Users/nicokreiling/anaconda3/lib/python3.7/site-packages (from prompt-toolkit<2.1.0,>=2.0.0->ipython>=4.0.0; python_version >= \"3.3\"->ipywidgets>=7.0.0->bamboolib) (0.1.7)\n",
      "Requirement already satisfied: parso>=0.3.0 in /Users/nicokreiling/anaconda3/lib/python3.7/site-packages (from jedi>=0.10->ipython>=4.0.0; python_version >= \"3.3\"->ipywidgets>=7.0.0->bamboolib) (0.5.0)\n",
      "Requirement already satisfied: ptyprocess>=0.5 in /Users/nicokreiling/anaconda3/lib/python3.7/site-packages (from pexpect; sys_platform != \"win32\"->ipython>=4.0.0; python_version >= \"3.3\"->ipywidgets>=7.0.0->bamboolib) (0.6.0)\n",
      "Installing collected packages: analytics-python, retrying, plotly, bamboolib\n",
      "Successfully installed analytics-python-1.2.9 bamboolib-1.2.0 plotly-4.4.1 retrying-1.3.3\n"
     ]
    }
   ],
   "source": [
    "!pip install bamboolib"
   ]
  },
  {
   "cell_type": "code",
   "execution_count": null,
   "metadata": {},
   "outputs": [],
   "source": []
  }
 ],
 "metadata": {
  "kernelspec": {
   "display_name": "Python 3",
   "language": "python",
   "name": "python3"
  },
  "language_info": {
   "codemirror_mode": {
    "name": "ipython",
    "version": 3
   },
   "file_extension": ".py",
   "mimetype": "text/x-python",
   "name": "python",
   "nbconvert_exporter": "python",
   "pygments_lexer": "ipython3",
   "version": "3.7.3"
  }
 },
 "nbformat": 4,
 "nbformat_minor": 4
}
